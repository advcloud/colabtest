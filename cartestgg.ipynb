{
  "nbformat": 4,
  "nbformat_minor": 0,
  "metadata": {
    "colab": {
      "name": "Untitleda1.ipynb",
      "provenance": [],
      "collapsed_sections": [],
      "mount_file_id": "1Xp3LfcGdSjOlkhl9kAn_oywKxzFXHtRk",
      "authorship_tag": "ABX9TyMTdx0BtihHDvvnLuF6IJpn",
      "include_colab_link": true
    },
    "kernelspec": {
      "name": "python3",
      "display_name": "Python 3"
    },
    "language_info": {
      "name": "python"
    }
  },
  "cells": [
    {
      "cell_type": "markdown",
      "metadata": {
        "id": "view-in-github",
        "colab_type": "text"
      },
      "source": [
        "<a href=\"https://colab.research.google.com/github/advcloud/colabtest/blob/main/cartestgg.ipynb\" target=\"_parent\"><img src=\"https://colab.research.google.com/assets/colab-badge.svg\" alt=\"Open In Colab\"/></a>"
      ]
    },
    {
      "cell_type": "code",
      "execution_count": 1,
      "metadata": {
        "colab": {
          "base_uri": "https://localhost:8080/"
        },
        "id": "Ht8m-1-kiFOt",
        "outputId": "2fd215be-ea5c-4fee-dcde-36c9fc901230"
      },
      "outputs": [
        {
          "output_type": "stream",
          "name": "stdout",
          "text": [
            "Looking in indexes: https://pypi.org/simple, https://us-python.pkg.dev/colab-wheels/public/simple/\n",
            "Collecting git+https://github.com/advcloud/colablibm.git\n",
            "  Cloning https://github.com/advcloud/colablibm.git to /tmp/pip-req-build-0jn09uw4\n",
            "  Running command git clone -q https://github.com/advcloud/colablibm.git /tmp/pip-req-build-0jn09uw4\n",
            "Collecting ffmpeg-python\n",
            "  Downloading ffmpeg_python-0.2.0-py3-none-any.whl (25 kB)\n",
            "Collecting mediapipe\n",
            "  Downloading mediapipe-0.8.10-cp37-cp37m-manylinux_2_17_x86_64.manylinux2014_x86_64.whl (32.8 MB)\n",
            "\u001b[K     |████████████████████████████████| 32.8 MB 324 kB/s \n",
            "\u001b[?25hRequirement already satisfied: pillow in /usr/local/lib/python3.7/dist-packages (from colablibm==1.0) (7.1.2)\n",
            "Requirement already satisfied: numpy in /usr/local/lib/python3.7/dist-packages (from colablibm==1.0) (1.21.6)\n",
            "Requirement already satisfied: future in /usr/local/lib/python3.7/dist-packages (from ffmpeg-python->colablibm==1.0) (0.16.0)\n",
            "Requirement already satisfied: protobuf>=3.11.4 in /usr/local/lib/python3.7/dist-packages (from mediapipe->colablibm==1.0) (3.17.3)\n",
            "Requirement already satisfied: matplotlib in /usr/local/lib/python3.7/dist-packages (from mediapipe->colablibm==1.0) (3.2.2)\n",
            "Requirement already satisfied: attrs>=19.1.0 in /usr/local/lib/python3.7/dist-packages (from mediapipe->colablibm==1.0) (21.4.0)\n",
            "Requirement already satisfied: absl-py in /usr/local/lib/python3.7/dist-packages (from mediapipe->colablibm==1.0) (1.0.0)\n",
            "Requirement already satisfied: opencv-contrib-python in /usr/local/lib/python3.7/dist-packages (from mediapipe->colablibm==1.0) (4.1.2.30)\n",
            "Requirement already satisfied: six>=1.9 in /usr/local/lib/python3.7/dist-packages (from protobuf>=3.11.4->mediapipe->colablibm==1.0) (1.15.0)\n",
            "Requirement already satisfied: pyparsing!=2.0.4,!=2.1.2,!=2.1.6,>=2.0.1 in /usr/local/lib/python3.7/dist-packages (from matplotlib->mediapipe->colablibm==1.0) (3.0.9)\n",
            "Requirement already satisfied: python-dateutil>=2.1 in /usr/local/lib/python3.7/dist-packages (from matplotlib->mediapipe->colablibm==1.0) (2.8.2)\n",
            "Requirement already satisfied: kiwisolver>=1.0.1 in /usr/local/lib/python3.7/dist-packages (from matplotlib->mediapipe->colablibm==1.0) (1.4.2)\n",
            "Requirement already satisfied: cycler>=0.10 in /usr/local/lib/python3.7/dist-packages (from matplotlib->mediapipe->colablibm==1.0) (0.11.0)\n",
            "Requirement already satisfied: typing-extensions in /usr/local/lib/python3.7/dist-packages (from kiwisolver>=1.0.1->matplotlib->mediapipe->colablibm==1.0) (4.2.0)\n",
            "Building wheels for collected packages: colablibm\n",
            "  Building wheel for colablibm (setup.py) ... \u001b[?25l\u001b[?25hdone\n",
            "  Created wheel for colablibm: filename=colablibm-1.0-py3-none-any.whl size=1351 sha256=8ea6fa8083bb0ea5a448a6a05fa06395f2089aad42f7b3fd1e63a53714fed7fc\n",
            "  Stored in directory: /tmp/pip-ephem-wheel-cache-2by7gdn2/wheels/f9/a7/b3/05fe44ff04c2d7e572c3ebf5d58ae7f5f0d53edde1d4aba60b\n",
            "Successfully built colablibm\n",
            "Installing collected packages: mediapipe, ffmpeg-python, colablibm\n",
            "Successfully installed colablibm-1.0 ffmpeg-python-0.2.0 mediapipe-0.8.10\n",
            "Cloning into 'colablib1'...\n",
            "remote: Enumerating objects: 19, done.\u001b[K\n",
            "remote: Counting objects: 100% (19/19), done.\u001b[K\n",
            "remote: Compressing objects: 100% (18/18), done.\u001b[K\n",
            "remote: Total 19 (delta 5), reused 0 (delta 0), pack-reused 0\u001b[K\n",
            "Unpacking objects: 100% (19/19), done.\n",
            "/content/colablib1\n"
          ]
        }
      ],
      "source": [
        "!pip install git+https://github.com/advcloud/colablibm.git\n",
        "!git clone https://github.com/advcloud/colablib1.git\n",
        "%cd colablib1\n",
        "import libmediacar1\n"
      ]
    },
    {
      "cell_type": "code",
      "source": [
        "from google.colab import files\n",
        "\n",
        "uploaded = files.upload()\n",
        "video_path = list(uploaded.keys())[0]"
      ],
      "metadata": {
        "colab": {
          "base_uri": "https://localhost:8080/",
          "resources": {
            "http://localhost:8080/nbextensions/google.colab/files.js": {
              "data": "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",
              "ok": true,
              "headers": [
                [
                  "content-type",
                  "application/javascript"
                ]
              ],
              "status": 200,
              "status_text": ""
            }
          },
          "height": 75
        },
        "id": "W6J3upffUKVL",
        "outputId": "c77c1295-a325-4be2-8e8f-c2bb1a620927"
      },
      "execution_count": 2,
      "outputs": [
        {
          "output_type": "display_data",
          "data": {
            "text/plain": [
              "<IPython.core.display.HTML object>"
            ],
            "text/html": [
              "\n",
              "     <input type=\"file\" id=\"files-3c64867b-295b-4c16-933e-8313b144f6cb\" name=\"files[]\" multiple disabled\n",
              "        style=\"border:none\" />\n",
              "     <output id=\"result-3c64867b-295b-4c16-933e-8313b144f6cb\">\n",
              "      Upload widget is only available when the cell has been executed in the\n",
              "      current browser session. Please rerun this cell to enable.\n",
              "      </output>\n",
              "      <script src=\"/nbextensions/google.colab/files.js\"></script> "
            ]
          },
          "metadata": {}
        },
        {
          "output_type": "stream",
          "name": "stdout",
          "text": [
            "Saving sop1.mp4 to sop1.mp4\n"
          ]
        }
      ]
    },
    {
      "cell_type": "code",
      "source": [
        "#claireye.com.tw\n",
        "input_path ='/content/drive/MyDrive/Github/car1/'\n",
        "input_name ='sop1'\n",
        "stopa = 1\n",
        "snum = '0'\n",
        "wcsv1=input_path+input_name+'.csv'"
      ],
      "metadata": {
        "id": "kbhhBVOkiomj"
      },
      "execution_count": 3,
      "outputs": []
    },
    {
      "cell_type": "code",
      "source": [
        "print (video_path)"
      ],
      "metadata": {
        "colab": {
          "base_uri": "https://localhost:8080/"
        },
        "id": "0TwO39NlOGYn",
        "outputId": "6f4d9ef1-36ea-4ad5-fd09-f9aba177d14f"
      },
      "execution_count": 4,
      "outputs": [
        {
          "output_type": "stream",
          "name": "stdout",
          "text": [
            "sop1.mp4\n"
          ]
        }
      ]
    },
    {
      "cell_type": "code",
      "source": [
        "if libmediacar1.os.path.isdir('images'):\n",
        "    libmediacar1.shutil.rmtree('images')\n",
        " \n",
        "libmediacar1.os.makedirs('images', exist_ok=True)\n",
        "\n",
        "libmediacar1.video_2_images(video_path,libmediacar1.st,libmediacar1.intv,(libmediacar1.stop1*stopa))"
      ],
      "metadata": {
        "id": "iR8Pehw2_BIe"
      },
      "execution_count": 5,
      "outputs": []
    },
    {
      "cell_type": "code",
      "source": [
        "files=[]\n",
        "sop_1c = []\n",
        "sop_h1 =[]\n",
        "sop_h2 =[]\n",
        "sop_h3 =[]\n",
        "counta1 = 0\n",
        "t_handc = 0\n",
        "hlength1 = 0\n",
        "hlength2 = 0\n",
        "hlength3 = 0\n",
        "mp_drawing = libmediacar1.mp.solutions.drawing_utils\n",
        "for name in sorted(libmediacar1.glob.glob('./images/*.png')):\n",
        "    files.append(name)\n",
        "images = {name: libmediacar1.cv2.imread(name) for name in files}  \n",
        "for name, image in images.items():\n",
        "  # Convert the BGR image to RGB and process it with MediaPipe Pose.\n",
        "  results = libmediacar1.hands.process(libmediacar1.cv2.cvtColor(image, libmediacar1.cv2.COLOR_BGR2RGB))\n",
        " \n",
        "  # Draw pose landmarks.\n",
        "  annotated_image = image.copy()\n",
        "  countrt = 0\n",
        "  countlt = 0\n",
        "  if results.multi_hand_landmarks:\n",
        "      for hand_landmarks in results.multi_hand_landmarks:\n",
        "          libmediacar1.mpDraw.draw_landmarks(annotated_image,hand_landmarks, libmediacar1.mp_hands.HAND_CONNECTIONS)\n",
        "          countb1 = 0\n",
        "          kpoint = []\n",
        "          t_handc += 1\n",
        "          for point in libmediacar1.mp_hands.HandLandmark:\n",
        "              normalizedLandmark = hand_landmarks.landmark[point]\n",
        "              #print(point)\n",
        "              #print(\"c:\",countb1)\n",
        "              countb1 += 1\n",
        "              peak = (float(normalizedLandmark.x), float(normalizedLandmark.y))\n",
        "              kpoint.append(peak)\n",
        "        \n",
        "          sop_1c.append(kpoint)\n",
        "          if kpoint:\n",
        "              x1, y1 = kpoint[0][0], kpoint[0][1]\n",
        "              x2, y2 = kpoint[8][0], kpoint[8][1]\n",
        "              x3, y3 = kpoint[4][0], kpoint[4][1] \n",
        "              hlength1 = libmediacar1.math.hypot(x2-x1, y2-y1) \n",
        "              hlength2 = libmediacar1.math.hypot(x3-x1, y3-y1)\n",
        "              hlength3 = libmediacar1.math.hypot(x2-x3, y2-y3) \n",
        "          sop_h1.append(round(hlength1, 2)) \n",
        "          sop_h2.append(round(hlength2, 2))\n",
        "          sop_h3.append(round(hlength3, 2)) \n",
        "      for hand_index, hand_info in enumerate(results.multi_handedness):\n",
        "          hand_label = hand_info.classification[0].label\n",
        "          if (hand_label=='Right' ) :\n",
        "              countrt = 1\n",
        "          if (hand_label=='Left' ) :\n",
        "              countlt = 1\n",
        "  libmediacar1.cv2.putText(annotated_image, f'Left:{int(countrt)}',(30,240), libmediacar1.cv2.FONT_HERSHEY_PLAIN,3,(0,255,0),3 )   \n",
        "  libmediacar1.cv2.putText(annotated_image, f'Right:{int(countlt)}',(30,280), libmediacar1.cv2.FONT_HERSHEY_PLAIN,3,(0,255,0),3 )\n",
        "  libmediacar1.cv2.putText(annotated_image,f'angle1:{round(hlength1, 2)}',(30,580), libmediacar1.cv2.FONT_HERSHEY_PLAIN,3,(0,255,0),3  )    \n",
        "  libmediacar1.cv2.putText(annotated_image,f'angle2:{round(hlength2, 2)}',(30,530), libmediacar1.cv2.FONT_HERSHEY_PLAIN,3,(0,255,0),3  ) \n",
        "  libmediacar1.cv2.putText(annotated_image,f'angle3:{round(hlength3, 2)}',(30,480), libmediacar1.cv2.FONT_HERSHEY_PLAIN,3,(0,255,0),3  )     \n",
        "  libmediacar1.cv2.putText(annotated_image,f'Claireye:{int(t_handc)}',(30,680), libmediacar1.cv2.FONT_HERSHEY_PLAIN,3,(0,255,0),3  )\n",
        "   \n",
        "  counta1 += 1\n",
        "\n",
        "  libmediacar1.cv2.imwrite(name, annotated_image)  "
      ],
      "metadata": {
        "id": "T7dCG6_lLU1i"
      },
      "execution_count": 6,
      "outputs": []
    },
    {
      "cell_type": "code",
      "source": [
        "sop_1c = libmediacar1.np.asarray(sop_1c)\n",
        "sop_h1 = libmediacar1.np.asarray(sop_h1)\n",
        "sop_h2 = libmediacar1.np.asarray(sop_h2)\n",
        "sop_h3 = libmediacar1.np.asarray(sop_h3)\n",
        "sop_1c.shape"
      ],
      "metadata": {
        "colab": {
          "base_uri": "https://localhost:8080/"
        },
        "id": "n6arWWjA2iKT",
        "outputId": "9f5f61d1-1cdf-4be5-fecb-041f1f06f163"
      },
      "execution_count": 7,
      "outputs": [
        {
          "output_type": "execute_result",
          "data": {
            "text/plain": [
              "(26, 21, 2)"
            ]
          },
          "metadata": {},
          "execution_count": 7
        }
      ]
    },
    {
      "cell_type": "code",
      "source": [
        "print(t_handc)"
      ],
      "metadata": {
        "colab": {
          "base_uri": "https://localhost:8080/"
        },
        "id": "XS-mbT_iKvl3",
        "outputId": "56059c44-2e26-434b-8e1e-9ddb24dabad0"
      },
      "execution_count": 8,
      "outputs": [
        {
          "output_type": "stream",
          "name": "stdout",
          "text": [
            "26\n"
          ]
        }
      ]
    },
    {
      "cell_type": "code",
      "source": [
        "properLabels = []\n",
        "for label in libmediacar1.labels:\n",
        "    properLabels.append(label + 'X')\n",
        "    properLabels.append(label + 'Y')\n",
        "\n",
        "with open(wcsv1, 'w+') as sopcsv:\n",
        "    sopwriter = libmediacar1.csv.writer(sopcsv, delimiter=',')\n",
        "    sopwriter.writerow(properLabels)\n",
        "    for cell in sop_1c:\n",
        "        sopwriter.writerow(cell.flatten())\n"
      ],
      "metadata": {
        "id": "rU0mmrga3BNH"
      },
      "execution_count": 9,
      "outputs": []
    },
    {
      "cell_type": "code",
      "source": [
        "Data=libmediacar1.pd.read_csv(wcsv1)\n",
        "ds = libmediacar1.pd.DataFrame()\n",
        "ds[\"h1\"] = sop_h1\n",
        "ds[\"h2\"] = sop_h2\n",
        "ds[\"h3\"] = sop_h3\n",
        "labels1=[]\n",
        "for i in range(0,t_handc):\n",
        "  labels1.append(snum)\n",
        "labels = libmediacar1.np.asarray(labels1)\n",
        "ds[\"label\"] = labels\n",
        "ds1=libmediacar1.pd.concat([Data, ds], axis=1)  "
      ],
      "metadata": {
        "id": "sM5iJ0083Jxa"
      },
      "execution_count": 10,
      "outputs": []
    },
    {
      "cell_type": "code",
      "source": [
        "ds1.to_csv(wcsv1)\n",
        "Data=libmediacar1.pd.read_csv(wcsv1)\n",
        "print(Data.head(10))\n"
      ],
      "metadata": {
        "colab": {
          "base_uri": "https://localhost:8080/"
        },
        "id": "G5aEj3h1-N7f",
        "outputId": "c7415a32-bc6a-4c93-934c-9295b41d6b42"
      },
      "execution_count": 11,
      "outputs": [
        {
          "output_type": "stream",
          "name": "stdout",
          "text": [
            "   Unnamed: 0    WRISTX    WRISTY   TB_CMCX   TB_CMCY   TB_MCPX   TB_MCPY  \\\n",
            "0           0  0.433289  0.625399  0.467188  0.609448  0.506690  0.609962   \n",
            "1           1  0.420481  0.628323  0.455058  0.610891  0.494317  0.610435   \n",
            "2           2  0.405930  0.631793  0.442343  0.612841  0.482769  0.612115   \n",
            "3           3  0.383595  0.636350  0.421142  0.618713  0.464825  0.617761   \n",
            "4           4  0.357856  0.644356  0.394798  0.626775  0.438505  0.623791   \n",
            "5           5  0.325560  0.653183  0.363723  0.636416  0.407968  0.634061   \n",
            "6           6  0.278943  0.670391  0.316056  0.653371  0.362761  0.650739   \n",
            "7           7  0.286482  0.668756  0.326158  0.650921  0.373192  0.648683   \n",
            "8           8  0.437499  0.483768  0.429320  0.469920  0.411567  0.454583   \n",
            "9           9  0.430648  0.480398  0.417356  0.469409  0.399614  0.455649   \n",
            "\n",
            "     TB_IPX    TB_IPY   TB_TIPX  ...   PY_MCPX   PY_MCPY    PY_IPX    PY_IPY  \\\n",
            "0  0.530634  0.619097  0.543617  ...  0.505546  0.658164  0.521096  0.656247   \n",
            "1  0.517336  0.618976  0.528400  ...  0.500315  0.657203  0.515490  0.652557   \n",
            "2  0.507030  0.620521  0.521227  ...  0.494686  0.659831  0.511816  0.655600   \n",
            "3  0.496265  0.623734  0.516430  ...  0.471434  0.663703  0.487953  0.658713   \n",
            "4  0.468966  0.627836  0.487341  ...  0.462873  0.673128  0.484482  0.669102   \n",
            "5  0.435121  0.637743  0.447860  ...  0.418060  0.683147  0.436301  0.679190   \n",
            "6  0.394657  0.653921  0.414708  ...  0.368595  0.702526  0.385619  0.698021   \n",
            "7  0.404352  0.652609  0.417032  ...  0.385668  0.697536  0.398269  0.690861   \n",
            "8  0.396917  0.443541  0.386073  ...  0.383458  0.443210  0.378380  0.433661   \n",
            "9  0.386841  0.447229  0.376483  ...  0.384125  0.436938  0.378031  0.428441   \n",
            "\n",
            "    PY_TIPX   PY_TIPY    h1    h2    h3  label  \n",
            "0  0.529269  0.654381  0.16  0.11  0.05      0  \n",
            "1  0.521534  0.648627  0.16  0.11  0.05      0  \n",
            "2  0.520123  0.652084  0.16  0.12  0.05      0  \n",
            "3  0.496175  0.654074  0.17  0.13  0.04      0  \n",
            "4  0.498729  0.664602  0.17  0.13  0.05      0  \n",
            "5  0.445702  0.674489  0.16  0.12  0.04      0  \n",
            "6  0.393256  0.693756  0.15  0.14  0.02      0  \n",
            "7  0.397697  0.685764  0.13  0.13  0.01      0  \n",
            "8  0.373853  0.425090  0.09  0.07  0.02      0  \n",
            "9  0.370790  0.421096  0.09  0.07  0.03      0  \n",
            "\n",
            "[10 rows x 47 columns]\n"
          ]
        }
      ]
    }
  ]
}