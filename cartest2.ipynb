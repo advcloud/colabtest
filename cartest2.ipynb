{
  "nbformat": 4,
  "nbformat_minor": 0,
  "metadata": {
    "colab": {
      "name": "Untitled0.ipynb",
      "provenance": [],
      "collapsed_sections": [],
      "mount_file_id": "1FmFbiTstm6plfDn18XYnragfDCqsYNzK",
      "authorship_tag": "ABX9TyOmweygfcWQEAKDJuwW2JtW",
      "include_colab_link": true
    },
    "kernelspec": {
      "name": "python3",
      "display_name": "Python 3"
    },
    "language_info": {
      "name": "python"
    }
  },
  "cells": [
    {
      "cell_type": "markdown",
      "metadata": {
        "id": "view-in-github",
        "colab_type": "text"
      },
      "source": [
        "<a href=\"https://colab.research.google.com/github/advcloud/colabtest/blob/main/cartest2.ipynb\" target=\"_parent\"><img src=\"https://colab.research.google.com/assets/colab-badge.svg\" alt=\"Open In Colab\"/></a>"
      ]
    },
    {
      "cell_type": "code",
      "execution_count": 1,
      "metadata": {
        "colab": {
          "base_uri": "https://localhost:8080/"
        },
        "id": "Ht8m-1-kiFOt",
        "outputId": "9f171182-204e-42e4-a426-f8c70b426a2a"
      },
      "outputs": [
        {
          "output_type": "stream",
          "name": "stdout",
          "text": [
            "Looking in indexes: https://pypi.org/simple, https://us-python.pkg.dev/colab-wheels/public/simple/\n",
            "Collecting git+https://github.com/advcloud/colablibm.git\n",
            "  Cloning https://github.com/advcloud/colablibm.git to /tmp/pip-req-build-hn8tciht\n",
            "  Running command git clone -q https://github.com/advcloud/colablibm.git /tmp/pip-req-build-hn8tciht\n",
            "Collecting ffmpeg-python\n",
            "  Downloading ffmpeg_python-0.2.0-py3-none-any.whl (25 kB)\n",
            "Collecting mediapipe\n",
            "  Downloading mediapipe-0.8.10-cp37-cp37m-manylinux_2_17_x86_64.manylinux2014_x86_64.whl (32.8 MB)\n",
            "\u001b[K     |████████████████████████████████| 32.8 MB 1.2 MB/s \n",
            "\u001b[?25hRequirement already satisfied: pillow in /usr/local/lib/python3.7/dist-packages (from colablibm==1.0) (7.1.2)\n",
            "Requirement already satisfied: numpy in /usr/local/lib/python3.7/dist-packages (from colablibm==1.0) (1.21.6)\n",
            "Requirement already satisfied: future in /usr/local/lib/python3.7/dist-packages (from ffmpeg-python->colablibm==1.0) (0.16.0)\n",
            "Requirement already satisfied: opencv-contrib-python in /usr/local/lib/python3.7/dist-packages (from mediapipe->colablibm==1.0) (4.1.2.30)\n",
            "Requirement already satisfied: protobuf>=3.11.4 in /usr/local/lib/python3.7/dist-packages (from mediapipe->colablibm==1.0) (3.17.3)\n",
            "Requirement already satisfied: attrs>=19.1.0 in /usr/local/lib/python3.7/dist-packages (from mediapipe->colablibm==1.0) (21.4.0)\n",
            "Requirement already satisfied: absl-py in /usr/local/lib/python3.7/dist-packages (from mediapipe->colablibm==1.0) (1.0.0)\n",
            "Requirement already satisfied: matplotlib in /usr/local/lib/python3.7/dist-packages (from mediapipe->colablibm==1.0) (3.2.2)\n",
            "Requirement already satisfied: six>=1.9 in /usr/local/lib/python3.7/dist-packages (from protobuf>=3.11.4->mediapipe->colablibm==1.0) (1.15.0)\n",
            "Requirement already satisfied: cycler>=0.10 in /usr/local/lib/python3.7/dist-packages (from matplotlib->mediapipe->colablibm==1.0) (0.11.0)\n",
            "Requirement already satisfied: pyparsing!=2.0.4,!=2.1.2,!=2.1.6,>=2.0.1 in /usr/local/lib/python3.7/dist-packages (from matplotlib->mediapipe->colablibm==1.0) (3.0.9)\n",
            "Requirement already satisfied: kiwisolver>=1.0.1 in /usr/local/lib/python3.7/dist-packages (from matplotlib->mediapipe->colablibm==1.0) (1.4.2)\n",
            "Requirement already satisfied: python-dateutil>=2.1 in /usr/local/lib/python3.7/dist-packages (from matplotlib->mediapipe->colablibm==1.0) (2.8.2)\n",
            "Requirement already satisfied: typing-extensions in /usr/local/lib/python3.7/dist-packages (from kiwisolver>=1.0.1->matplotlib->mediapipe->colablibm==1.0) (4.2.0)\n",
            "Building wheels for collected packages: colablibm\n",
            "  Building wheel for colablibm (setup.py) ... \u001b[?25l\u001b[?25hdone\n",
            "  Created wheel for colablibm: filename=colablibm-1.0-py3-none-any.whl size=1351 sha256=35a50a4ad6750bda9508aa2e0b42a08270be080f547afd1b2b1c3b4457497b1f\n",
            "  Stored in directory: /tmp/pip-ephem-wheel-cache-hswl34zw/wheels/f9/a7/b3/05fe44ff04c2d7e572c3ebf5d58ae7f5f0d53edde1d4aba60b\n",
            "Successfully built colablibm\n",
            "Installing collected packages: mediapipe, ffmpeg-python, colablibm\n",
            "Successfully installed colablibm-1.0 ffmpeg-python-0.2.0 mediapipe-0.8.10\n",
            "Cloning into 'colablib1'...\n",
            "remote: Enumerating objects: 16, done.\u001b[K\n",
            "remote: Counting objects: 100% (16/16), done.\u001b[K\n",
            "remote: Compressing objects: 100% (15/15), done.\u001b[K\n",
            "remote: Total 16 (delta 4), reused 0 (delta 0), pack-reused 0\u001b[K\n",
            "Unpacking objects: 100% (16/16), done.\n",
            "/content/colablib1\n"
          ]
        }
      ],
      "source": [
        "!pip install git+https://github.com/advcloud/colablibm.git\n",
        "!git clone https://github.com/advcloud/colablib1.git\n",
        "%cd colablib1\n",
        "import libmediacar\n"
      ]
    },
    {
      "cell_type": "code",
      "source": [
        "%ls"
      ],
      "metadata": {
        "colab": {
          "base_uri": "https://localhost:8080/"
        },
        "id": "a-PoKAhJikf4",
        "outputId": "6bb9e7e6-d5ca-42d2-af69-b130a103817e"
      },
      "execution_count": 2,
      "outputs": [
        {
          "output_type": "stream",
          "name": "stdout",
          "text": [
            "functions1.so  libmediacar.so  libmedia.so  README.md  webcam.so\n"
          ]
        }
      ]
    },
    {
      "cell_type": "code",
      "source": [
        "%ls /content/drive/MyDrive/Github/car"
      ],
      "metadata": {
        "colab": {
          "base_uri": "https://localhost:8080/"
        },
        "id": "W6J3upffUKVL",
        "outputId": "dc1b1d34-fb6b-4e07-fde5-d1b4f146081b"
      },
      "execution_count": 3,
      "outputs": [
        {
          "output_type": "stream",
          "name": "stdout",
          "text": [
            "g04_104_2.mp4  g05_39_1.mp4  g07_44_2.mp4   g08_70_1output.mp4  Untitled0.ipynb\n",
            "g04_75_3.mp4   g06_36_1.mp4  g08_103_1.mp4  g09_65_1.mp4\n",
            "g04_82_1.mp4   g07_16_1.mp4  g08_70_1.mp4   g09_79_2.mp4\n"
          ]
        }
      ]
    },
    {
      "cell_type": "code",
      "source": [
        "#claireye.com.tw\n",
        "input_path ='/content/drive/MyDrive/Github/car/'\n",
        "stopa = 103\n",
        "input_name ='g08_103_1'\n",
        "video_path = input_path+input_name+'.mp4'\n",
        "out_path = input_path+input_name+'output.mp4'"
      ],
      "metadata": {
        "id": "kbhhBVOkiomj"
      },
      "execution_count": 4,
      "outputs": []
    },
    {
      "cell_type": "code",
      "source": [
        "print (video_path)"
      ],
      "metadata": {
        "colab": {
          "base_uri": "https://localhost:8080/"
        },
        "id": "0TwO39NlOGYn",
        "outputId": "3f5bdd67-8541-41b0-ee56-866e34b732f9"
      },
      "execution_count": 5,
      "outputs": [
        {
          "output_type": "stream",
          "name": "stdout",
          "text": [
            "/content/drive/MyDrive/Github/car/g08_103_1.mp4\n"
          ]
        }
      ]
    },
    {
      "cell_type": "code",
      "source": [
        "if libmediacar.os.path.isdir('images'):\n",
        "    libmediacar.shutil.rmtree('images')\n",
        " \n",
        "libmediacar.os.makedirs('images', exist_ok=True)\n",
        "\n",
        "libmediacar.video_2_images(video_path,libmediacar.st,libmediacar.intv,(libmediacar.stop1*stopa))"
      ],
      "metadata": {
        "id": "NeyVhuawLI6V"
      },
      "execution_count": 6,
      "outputs": []
    },
    {
      "cell_type": "code",
      "source": [
        "files=[]\n",
        "mp_drawing = libmediacar.mp.solutions.drawing_utils\n",
        "for name in sorted(libmediacar.glob.glob('./images/*.png')):\n",
        "    files.append(name)\n",
        "images = {name: libmediacar.cv2.imread(name) for name in files}  \n",
        "for name, image in images.items():\n",
        "  # Convert the BGR image to RGB and process it with MediaPipe Pose.\n",
        "  results = libmediacar.hands.process(libmediacar.cv2.cvtColor(image, libmediacar.cv2.COLOR_BGR2RGB))\n",
        " \n",
        "  # Draw pose landmarks.\n",
        "  annotated_image = image.copy()\n",
        "  if results.multi_hand_landmarks:\n",
        "      for hand_landmarks in results.multi_hand_landmarks:\n",
        "          libmediacar.mpDraw.draw_landmarks(annotated_image,hand_landmarks, libmediacar.mp_hands.HAND_CONNECTIONS)\n",
        "\n",
        "\n",
        "  libmediacar.cv2.imwrite(name, annotated_image)  "
      ],
      "metadata": {
        "id": "T7dCG6_lLU1i"
      },
      "execution_count": 7,
      "outputs": []
    },
    {
      "cell_type": "code",
      "source": [
        "! ffmpeg -r $libmediacar.stopa -i images/%6d.png\\\n",
        "               -vcodec libx264 -pix_fmt yuv420p $out_path"
      ],
      "metadata": {
        "id": "OV8o27mPLY5V",
        "colab": {
          "base_uri": "https://localhost:8080/"
        },
        "outputId": "78b01877-2f76-470f-f556-6c6273fd0175"
      },
      "execution_count": 8,
      "outputs": [
        {
          "output_type": "stream",
          "name": "stdout",
          "text": [
            "ffmpeg version 3.4.8-0ubuntu0.2 Copyright (c) 2000-2020 the FFmpeg developers\n",
            "  built with gcc 7 (Ubuntu 7.5.0-3ubuntu1~18.04)\n",
            "  configuration: --prefix=/usr --extra-version=0ubuntu0.2 --toolchain=hardened --libdir=/usr/lib/x86_64-linux-gnu --incdir=/usr/include/x86_64-linux-gnu --enable-gpl --disable-stripping --enable-avresample --enable-avisynth --enable-gnutls --enable-ladspa --enable-libass --enable-libbluray --enable-libbs2b --enable-libcaca --enable-libcdio --enable-libflite --enable-libfontconfig --enable-libfreetype --enable-libfribidi --enable-libgme --enable-libgsm --enable-libmp3lame --enable-libmysofa --enable-libopenjpeg --enable-libopenmpt --enable-libopus --enable-libpulse --enable-librubberband --enable-librsvg --enable-libshine --enable-libsnappy --enable-libsoxr --enable-libspeex --enable-libssh --enable-libtheora --enable-libtwolame --enable-libvorbis --enable-libvpx --enable-libwavpack --enable-libwebp --enable-libx265 --enable-libxml2 --enable-libxvid --enable-libzmq --enable-libzvbi --enable-omx --enable-openal --enable-opengl --enable-sdl2 --enable-libdc1394 --enable-libdrm --enable-libiec61883 --enable-chromaprint --enable-frei0r --enable-libopencv --enable-libx264 --enable-shared\n",
            "  libavutil      55. 78.100 / 55. 78.100\n",
            "  libavcodec     57.107.100 / 57.107.100\n",
            "  libavformat    57. 83.100 / 57. 83.100\n",
            "  libavdevice    57. 10.100 / 57. 10.100\n",
            "  libavfilter     6.107.100 /  6.107.100\n",
            "  libavresample   3.  7.  0 /  3.  7.  0\n",
            "  libswscale      4.  8.100 /  4.  8.100\n",
            "  libswresample   2.  9.100 /  2.  9.100\n",
            "  libpostproc    54.  7.100 / 54.  7.100\n",
            "Input #0, image2, from 'images/%6d.png':\n",
            "  Duration: 00:02:03.60, start: 0.000000, bitrate: N/A\n",
            "    Stream #0:0: Video: png, rgb24(pc), 1280x720, 25 fps, 25 tbr, 25 tbn, 25 tbc\n",
            "Stream mapping:\n",
            "  Stream #0:0 -> #0:0 (png (native) -> h264 (libx264))\n",
            "Press [q] to stop, [?] for help\n",
            "\u001b[1;36m[libx264 @ 0x55774c661e00] \u001b[0musing cpu capabilities: MMX2 SSE2Fast SSSE3 SSE4.2 AVX FMA3 BMI2 AVX2\n",
            "\u001b[1;36m[libx264 @ 0x55774c661e00] \u001b[0mprofile High, level 3.1\n",
            "\u001b[1;36m[libx264 @ 0x55774c661e00] \u001b[0m264 - core 152 r2854 e9a5903 - H.264/MPEG-4 AVC codec - Copyleft 2003-2017 - http://www.videolan.org/x264.html - options: cabac=1 ref=3 deblock=1:0:0 analyse=0x3:0x113 me=hex subme=7 psy=1 psy_rd=1.00:0.00 mixed_ref=1 me_range=16 chroma_me=1 trellis=1 8x8dct=1 cqm=0 deadzone=21,11 fast_pskip=1 chroma_qp_offset=-2 threads=3 lookahead_threads=1 sliced_threads=0 nr=0 decimate=1 interlaced=0 bluray_compat=0 constrained_intra=0 bframes=3 b_pyramid=2 b_adapt=1 b_bias=0 direct=1 weightb=1 open_gop=0 weightp=2 keyint=250 keyint_min=10 scenecut=40 intra_refresh=0 rc_lookahead=40 rc=crf mbtree=1 crf=23.0 qcomp=0.60 qpmin=0 qpmax=69 qpstep=4 ip_ratio=1.40 aq=1:1.00\n",
            "Output #0, mp4, to '/content/drive/MyDrive/Github/car/g08_103_1output.mp4':\n",
            "  Metadata:\n",
            "    encoder         : Lavf57.83.100\n",
            "    Stream #0:0: Video: h264 (libx264) (avc1 / 0x31637661), yuv420p, 1280x720, q=-1--1, 10 fps, 10240 tbn, 10 tbc\n",
            "    Metadata:\n",
            "      encoder         : Lavc57.107.100 libx264\n",
            "    Side data:\n",
            "      cpb: bitrate max/min/avg: 0/0/0 buffer size: 0 vbv_delay: -1\n",
            "frame= 3090 fps= 12 q=-1.0 Lsize=   53368kB time=00:05:08.70 bitrate=1416.2kbits/s speed=1.21x    \n",
            "video:53330kB audio:0kB subtitle:0kB other streams:0kB global headers:0kB muxing overhead: 0.069943%\n",
            "\u001b[1;36m[libx264 @ 0x55774c661e00] \u001b[0mframe I:13    Avg QP:16.70  size:172346\n",
            "\u001b[1;36m[libx264 @ 0x55774c661e00] \u001b[0mframe P:861   Avg QP:19.70  size: 47655\n",
            "\u001b[1;36m[libx264 @ 0x55774c661e00] \u001b[0mframe B:2216  Avg QP:25.16  size:  5116\n",
            "\u001b[1;36m[libx264 @ 0x55774c661e00] \u001b[0mconsecutive B-frames:  2.6%  3.8%  4.6% 89.1%\n",
            "\u001b[1;36m[libx264 @ 0x55774c661e00] \u001b[0mmb I  I16..4:  5.4% 53.4% 41.2%\n",
            "\u001b[1;36m[libx264 @ 0x55774c661e00] \u001b[0mmb P  I16..4:  1.5%  6.4%  1.9%  P16..4: 40.9% 18.4% 14.6%  0.0%  0.0%    skip:16.3%\n",
            "\u001b[1;36m[libx264 @ 0x55774c661e00] \u001b[0mmb B  I16..4:  0.1%  0.7%  0.3%  B16..8: 31.0%  3.8%  1.2%  direct: 1.4%  skip:61.5%  L0:44.6% L1:47.8% BI: 7.5%\n",
            "\u001b[1;36m[libx264 @ 0x55774c661e00] \u001b[0m8x8 transform intra:64.0% inter:76.2%\n",
            "\u001b[1;36m[libx264 @ 0x55774c661e00] \u001b[0mcoded y,uvDC,uvAC intra: 70.5% 86.0% 51.7% inter: 17.0% 18.1% 6.0%\n",
            "\u001b[1;36m[libx264 @ 0x55774c661e00] \u001b[0mi16 v,h,dc,p: 26% 31% 13% 30%\n",
            "\u001b[1;36m[libx264 @ 0x55774c661e00] \u001b[0mi8 v,h,dc,ddl,ddr,vr,hd,vl,hu: 22% 21% 18%  4%  6%  8%  7%  6%  6%\n",
            "\u001b[1;36m[libx264 @ 0x55774c661e00] \u001b[0mi4 v,h,dc,ddl,ddr,vr,hd,vl,hu: 27% 19% 11%  6%  8%  9%  8%  8%  6%\n",
            "\u001b[1;36m[libx264 @ 0x55774c661e00] \u001b[0mi8c dc,h,v,p: 43% 23% 24% 10%\n",
            "\u001b[1;36m[libx264 @ 0x55774c661e00] \u001b[0mWeighted P-Frames: Y:7.3% UV:4.3%\n",
            "\u001b[1;36m[libx264 @ 0x55774c661e00] \u001b[0mref P L0: 61.7% 15.7% 17.4%  4.9%  0.4%\n",
            "\u001b[1;36m[libx264 @ 0x55774c661e00] \u001b[0mref B L0: 90.0%  8.2%  1.8%\n",
            "\u001b[1;36m[libx264 @ 0x55774c661e00] \u001b[0mref B L1: 96.4%  3.6%\n",
            "\u001b[1;36m[libx264 @ 0x55774c661e00] \u001b[0mkb/s:1413.84\n"
          ]
        }
      ]
    },
    {
      "cell_type": "code",
      "source": [
        "%ls /content/drive/MyDrive/Github/car"
      ],
      "metadata": {
        "colab": {
          "base_uri": "https://localhost:8080/"
        },
        "id": "FBGiSVAPfvlk",
        "outputId": "08ab1480-f10b-457b-9e9d-31b2e1da2539"
      },
      "execution_count": 9,
      "outputs": [
        {
          "output_type": "stream",
          "name": "stdout",
          "text": [
            "g04_104_2.mp4  g06_36_1.mp4   g08_103_1output.mp4  g09_79_2.mp4\n",
            "g04_75_3.mp4   g07_16_1.mp4   g08_70_1.mp4         Untitled0.ipynb\n",
            "g04_82_1.mp4   g07_44_2.mp4   g08_70_1output.mp4\n",
            "g05_39_1.mp4   g08_103_1.mp4  g09_65_1.mp4\n"
          ]
        }
      ]
    }
  ]
}