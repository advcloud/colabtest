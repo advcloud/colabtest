{
  "cells": [
    {
      "cell_type": "markdown",
      "metadata": {
        "id": "view-in-github",
        "colab_type": "text"
      },
      "source": [
        "<a href=\"https://colab.research.google.com/github/advcloud/colabtest/blob/main/wandbt1.ipynb\" target=\"_parent\"><img src=\"https://colab.research.google.com/assets/colab-badge.svg\" alt=\"Open In Colab\"/></a>"
      ]
    },
    {
      "cell_type": "markdown",
      "metadata": {
        "id": "U0bOjv0clOdT"
      },
      "source": [
        "<img src=\"https://wandb.me/logo-im-png\" width=\"400\" alt=\"Weights & Biases\" />\n",
        "\n",
        "<!--- @wandbcode{keras-video} -->\n",
        "\n",
        "# W&B 💘 Keras\n",
        "Use Weights & Biases for machine learning experiment tracking, dataset versioning, and project collaboration.\n",
        "\n",
        "<div><img /></div>\n",
        "\n",
        "<img src=\"https://wandb.me/mini-diagram\" width=\"650\" alt=\"Weights & Biases\" />\n",
        "\n",
        "<div><img /></div>\n"
      ]
    },
    {
      "cell_type": "markdown",
      "metadata": {
        "id": "eI84A99VlOda"
      },
      "source": [
        "# Install, Import, and Log In"
      ]
    },
    {
      "cell_type": "code",
      "execution_count": 1,
      "metadata": {
        "id": "mWvpKHvAlOdb"
      },
      "outputs": [],
      "source": [
        "import os\n",
        "import random\n",
        "\n",
        "import matplotlib.pyplot as plt\n",
        "import numpy as np\n",
        "import pandas as pd\n",
        "import tensorflow as tf\n",
        "from tensorflow import keras\n",
        "from tensorflow.keras.datasets import cifar10\n",
        "\n",
        "# Set the random seeds\n",
        "os.environ['TF_CUDNN_DETERMINISTIC'] = '1' \n",
        "random.seed(hash(\"setting random seeds\") % 2**32 - 1)\n",
        "np.random.seed(hash(\"improves reproducibility\") % 2**32 - 1)\n",
        "tf.random.set_seed(hash(\"by removing stochasticity\") % 2**32 - 1)"
      ]
    },
    {
      "cell_type": "markdown",
      "metadata": {
        "id": "2XdYcfzqlOde"
      },
      "source": [
        "### Step 0: Install W&B"
      ]
    },
    {
      "cell_type": "code",
      "execution_count": 2,
      "metadata": {
        "id": "A9JRBXtclOde"
      },
      "outputs": [],
      "source": [
        "%%capture\n",
        "!pip install wandb"
      ]
    },
    {
      "cell_type": "markdown",
      "metadata": {
        "id": "sNeLtE3vlOdf"
      },
      "source": [
        "### Step 1: Import W&B and Login"
      ]
    },
    {
      "cell_type": "code",
      "execution_count": 3,
      "metadata": {
        "colab": {
          "base_uri": "https://localhost:8080/",
          "height": 71
        },
        "id": "Zc0hABjBlOdg",
        "outputId": "46fd3dea-45f4-434d-82e3-14771f8b89d2"
      },
      "outputs": [
        {
          "output_type": "display_data",
          "data": {
            "text/plain": [
              "<IPython.core.display.Javascript object>"
            ],
            "application/javascript": [
              "\n",
              "        window._wandbApiKey = new Promise((resolve, reject) => {\n",
              "            function loadScript(url) {\n",
              "            return new Promise(function(resolve, reject) {\n",
              "                let newScript = document.createElement(\"script\");\n",
              "                newScript.onerror = reject;\n",
              "                newScript.onload = resolve;\n",
              "                document.body.appendChild(newScript);\n",
              "                newScript.src = url;\n",
              "            });\n",
              "            }\n",
              "            loadScript(\"https://cdn.jsdelivr.net/npm/postmate/build/postmate.min.js\").then(() => {\n",
              "            const iframe = document.createElement('iframe')\n",
              "            iframe.style.cssText = \"width:0;height:0;border:none\"\n",
              "            document.body.appendChild(iframe)\n",
              "            const handshake = new Postmate({\n",
              "                container: iframe,\n",
              "                url: 'https://wandb.ai/authorize'\n",
              "            });\n",
              "            const timeout = setTimeout(() => reject(\"Couldn't auto authenticate\"), 5000)\n",
              "            handshake.then(function(child) {\n",
              "                child.on('authorize', data => {\n",
              "                    clearTimeout(timeout)\n",
              "                    resolve(data)\n",
              "                });\n",
              "            });\n",
              "            })\n",
              "        });\n",
              "    "
            ]
          },
          "metadata": {}
        },
        {
          "output_type": "stream",
          "name": "stderr",
          "text": [
            "\u001b[34m\u001b[1mwandb\u001b[0m: Appending key for api.wandb.ai to your netrc file: /root/.netrc\n"
          ]
        },
        {
          "output_type": "execute_result",
          "data": {
            "text/plain": [
              "True"
            ]
          },
          "metadata": {},
          "execution_count": 3
        }
      ],
      "source": [
        "import wandb\n",
        "from wandb.keras import WandbCallback\n",
        "\n",
        "wandb.login()"
      ]
    },
    {
      "cell_type": "markdown",
      "metadata": {
        "id": "5Rz7PvnJlOdg"
      },
      "source": [
        "> Side note: If this is your first time using W&B or you are not logged in, the link that appears after running `wandb.login` will take you to sign-up/login page. Signing up is easy!"
      ]
    },
    {
      "cell_type": "markdown",
      "metadata": {
        "id": "1sCRXvihlOdh"
      },
      "source": [
        "# Download and Prepare the Dataset\n"
      ]
    },
    {
      "cell_type": "code",
      "execution_count": 4,
      "metadata": {
        "colab": {
          "base_uri": "https://localhost:8080/"
        },
        "id": "HIzS6knPlOdh",
        "outputId": "e8a7c4f3-85bf-4433-dd4b-517bdac405a2"
      },
      "outputs": [
        {
          "output_type": "stream",
          "name": "stdout",
          "text": [
            "Downloading data from https://www.cs.toronto.edu/~kriz/cifar-10-python.tar.gz\n",
            "170500096/170498071 [==============================] - 2s 0us/step\n",
            "170508288/170498071 [==============================] - 2s 0us/step\n",
            "Shape of x_train:  (10000, 32, 32, 3)\n",
            "Shape of y_train:  (10000, 1)\n",
            "Shape of x_test:  (10000, 32, 32, 3)\n",
            "Shape of y_test:  (10000, 1)\n"
          ]
        }
      ],
      "source": [
        "(x_train, y_train), (x_test, y_test) = cifar10.load_data()\n",
        "\n",
        "# Subsetting train data and normalizing to [0., 1.]\n",
        "x_train, x_test = x_train[::5] / 255., x_test / 255.\n",
        "y_train = y_train[::5]\n",
        "\n",
        "CLASS_NAMES = [\"airplane\", \"automobile\", \"bird\", \"cat\",\n",
        "               \"deer\", \"dog\", \"frog\", \"horse\", \"ship\", \"truck\"]\n",
        "\n",
        "print('Shape of x_train: ', x_train.shape)\n",
        "print('Shape of y_train: ', y_train.shape)\n",
        "print('Shape of x_test: ', x_test.shape)\n",
        "print('Shape of y_test: ', y_test.shape)"
      ]
    },
    {
      "cell_type": "markdown",
      "metadata": {
        "id": "XBBYRNs3lOdi"
      },
      "source": [
        "# Define the Model"
      ]
    },
    {
      "cell_type": "markdown",
      "metadata": {
        "id": "n0XhgcOblOdi"
      },
      "source": [
        "Here, we define a standard CNN (with convolution and max-pooling) in Keras."
      ]
    },
    {
      "cell_type": "code",
      "execution_count": 5,
      "metadata": {
        "id": "GRXnc_szlOdi"
      },
      "outputs": [],
      "source": [
        "def Model():\n",
        "  inputs = keras.layers.Input(shape=(32, 32, 3))\n",
        "\n",
        "  x = keras.layers.Conv2D(filters=32, kernel_size=(3, 3), activation='relu')(inputs)\n",
        "  x = keras.layers.Conv2D(filters=32, kernel_size=(3, 3), activation='relu')(x)\n",
        "  x = keras.layers.MaxPooling2D(pool_size=2)(x)\n",
        "\n",
        "  x = keras.layers.Conv2D(filters=32, kernel_size=(3, 3), activation='relu')(x)\n",
        "  x = keras.layers.Conv2D(filters=32, kernel_size=(3, 3), activation='relu')(x)\n",
        "\n",
        "  x = keras.layers.GlobalAveragePooling2D()(x)\n",
        "\n",
        "  x = keras.layers.Dense(128, activation='relu')(x)\n",
        "  x = keras.layers.Dense(32, activation='relu')(x)\n",
        "  \n",
        "  outputs = keras.layers.Dense(len(CLASS_NAMES), activation='softmax')(x)\n",
        "\n",
        "  return keras.models.Model(inputs=inputs, outputs=outputs)"
      ]
    },
    {
      "cell_type": "markdown",
      "metadata": {
        "id": "xTQjgkKDlOdj"
      },
      "source": [
        "# Train the Model"
      ]
    },
    {
      "cell_type": "markdown",
      "metadata": {
        "id": "rKk80izjlOdj"
      },
      "source": [
        "### Step 2: Give `wandb.init` your `config`\n",
        "\n",
        "You first initialize your wandb run, letting us know some training is about to happen. [Check out the official documentation for `.init` here $\\rightarrow$](https://docs.wandb.com/library/init)\n",
        "\n",
        "That's when you need to set your hyperparameters.\n",
        "They're passed in as a dictionary via the `config` argument,\n",
        "and then become available as the `config` attribute of `wandb`.\n",
        "\n",
        "Learn more about `config` in this [Colab Notebook $\\rightarrow$](http://wandb.me/config-colab)"
      ]
    },
    {
      "cell_type": "code",
      "execution_count": 6,
      "metadata": {
        "colab": {
          "base_uri": "https://localhost:8080/",
          "height": 658
        },
        "id": "QwkDFrmxlOdk",
        "outputId": "0b3f09f2-c2c4-41a2-e5d1-f6c737c741ff"
      },
      "outputs": [
        {
          "output_type": "stream",
          "name": "stderr",
          "text": [
            "\u001b[34m\u001b[1mwandb\u001b[0m: Currently logged in as: \u001b[33mclair\u001b[0m (\u001b[33mclaireye\u001b[0m). Use \u001b[1m`wandb login --relogin`\u001b[0m to force relogin\n"
          ]
        },
        {
          "output_type": "display_data",
          "data": {
            "text/plain": [
              "<IPython.core.display.HTML object>"
            ],
            "text/html": [
              "Tracking run with wandb version 0.12.17"
            ]
          },
          "metadata": {}
        },
        {
          "output_type": "display_data",
          "data": {
            "text/plain": [
              "<IPython.core.display.HTML object>"
            ],
            "text/html": [
              "Run data is saved locally in <code>/content/wandb/run-20220527_082920-3jaol9rl</code>"
            ]
          },
          "metadata": {}
        },
        {
          "output_type": "display_data",
          "data": {
            "text/plain": [
              "<IPython.core.display.HTML object>"
            ],
            "text/html": [
              "Syncing run <strong><a href=\"https://wandb.ai/claireye/my-keras-integration/runs/3jaol9rl\" target=\"_blank\">radiant-pond-1</a></strong> to <a href=\"https://wandb.ai/claireye/my-keras-integration\" target=\"_blank\">Weights & Biases</a> (<a href=\"https://wandb.me/run\" target=\"_blank\">docs</a>)<br/>"
            ]
          },
          "metadata": {}
        },
        {
          "output_type": "stream",
          "name": "stdout",
          "text": [
            "Model: \"model\"\n",
            "_________________________________________________________________\n",
            " Layer (type)                Output Shape              Param #   \n",
            "=================================================================\n",
            " input_1 (InputLayer)        [(None, 32, 32, 3)]       0         \n",
            "                                                                 \n",
            " conv2d (Conv2D)             (None, 30, 30, 32)        896       \n",
            "                                                                 \n",
            " conv2d_1 (Conv2D)           (None, 28, 28, 32)        9248      \n",
            "                                                                 \n",
            " max_pooling2d (MaxPooling2D  (None, 14, 14, 32)       0         \n",
            " )                                                               \n",
            "                                                                 \n",
            " conv2d_2 (Conv2D)           (None, 12, 12, 32)        9248      \n",
            "                                                                 \n",
            " conv2d_3 (Conv2D)           (None, 10, 10, 32)        9248      \n",
            "                                                                 \n",
            " global_average_pooling2d (G  (None, 32)               0         \n",
            " lobalAveragePooling2D)                                          \n",
            "                                                                 \n",
            " dense (Dense)               (None, 128)               4224      \n",
            "                                                                 \n",
            " dense_1 (Dense)             (None, 32)                4128      \n",
            "                                                                 \n",
            " dense_2 (Dense)             (None, 10)                330       \n",
            "                                                                 \n",
            "=================================================================\n",
            "Total params: 37,322\n",
            "Trainable params: 37,322\n",
            "Non-trainable params: 0\n",
            "_________________________________________________________________\n"
          ]
        }
      ],
      "source": [
        "# Initialize wandb with your project name\n",
        "run = wandb.init(project='my-keras-integration',\n",
        "                 config={  # and include hyperparameters and metadata\n",
        "                     \"learning_rate\": 0.005,\n",
        "                     \"epochs\": 5,\n",
        "                     \"batch_size\": 1024,\n",
        "                     \"loss_function\": \"sparse_categorical_crossentropy\",\n",
        "                     \"architecture\": \"CNN\",\n",
        "                     \"dataset\": \"CIFAR-10\"\n",
        "                 })\n",
        "config = wandb.config  # We'll use this to configure our experiment\n",
        "\n",
        "# Initialize model like you usually do.\n",
        "tf.keras.backend.clear_session()\n",
        "model = Model()\n",
        "model.summary()\n",
        "\n",
        "# Compile model like you usually do.\n",
        "# Notice that we use config, so our metadata matches what gets executed\n",
        "optimizer = tf.keras.optimizers.Adam(config.learning_rate) \n",
        "model.compile(optimizer, config.loss_function, metrics=['acc'])"
      ]
    },
    {
      "cell_type": "markdown",
      "metadata": {
        "id": "8X7QsYfOlOdk"
      },
      "source": [
        "### Step 3: Pass `WandbCallback` to `model.fit`\n",
        "\n",
        "Keras has a [robust callbacks system](https://keras.io/api/callbacks/) that\n",
        "allows users to separate model definition and the core training logic\n",
        "from other behaviors that occur during training and testing.\n",
        "\n",
        "That includes, for example, \n",
        "\n",
        "**Click on the Project page link above to see your results!**"
      ]
    },
    {
      "cell_type": "code",
      "execution_count": 7,
      "metadata": {
        "colab": {
          "base_uri": "https://localhost:8080/"
        },
        "id": "ew_d1C4alOdk",
        "outputId": "649bb087-987e-464c-f338-9309d1c80065"
      },
      "outputs": [
        {
          "output_type": "stream",
          "name": "stderr",
          "text": [
            "\u001b[34m\u001b[1mwandb\u001b[0m: \u001b[33mWARNING\u001b[0m The save_model argument by default saves the model in the HDF5 format that cannot save custom objects like subclassed models and custom layers. This behavior will be deprecated in a future release in favor of the SavedModel format. Meanwhile, the HDF5 model is saved as W&B files and the SavedModel as W&B Artifacts.\n"
          ]
        },
        {
          "output_type": "stream",
          "name": "stdout",
          "text": [
            "Epoch 1/5\n",
            "10/10 [==============================] - 31s 3s/step - loss: 2.2907 - acc: 0.1112 - val_loss: 2.2962 - val_acc: 0.1017 - _timestamp: 1653640452.0000 - _runtime: 292.0000\n",
            "Epoch 2/5\n",
            "10/10 [==============================] - 28s 3s/step - loss: 2.2554 - acc: 0.1357 - val_loss: 2.1233 - val_acc: 0.1683 - _timestamp: 1653640480.0000 - _runtime: 320.0000\n",
            "Epoch 3/5\n",
            "10/10 [==============================] - 28s 3s/step - loss: 2.1588 - acc: 0.1721 - val_loss: 2.1405 - val_acc: 0.1484 - _timestamp: 1653640509.0000 - _runtime: 349.0000\n",
            "Epoch 4/5\n",
            "10/10 [==============================] - 28s 3s/step - loss: 2.1109 - acc: 0.1752 - val_loss: 2.0569 - val_acc: 0.1949 - _timestamp: 1653640537.0000 - _runtime: 377.0000\n",
            "Epoch 5/5\n",
            "10/10 [==============================] - 28s 3s/step - loss: 2.0489 - acc: 0.1954 - val_loss: 2.0220 - val_acc: 0.2196 - _timestamp: 1653640565.0000 - _runtime: 405.0000\n"
          ]
        }
      ],
      "source": [
        "# We train with our beloved model.fit\n",
        "# Notice WandbCallback is used as a regular callback\n",
        "# We again use config\n",
        "_ = model.fit(x_train, y_train,\n",
        "          epochs=config.epochs, \n",
        "          batch_size=config.batch_size,\n",
        "          validation_data=(x_test, y_test),\n",
        "          callbacks=[WandbCallback()])"
      ]
    },
    {
      "cell_type": "markdown",
      "metadata": {
        "id": "3qeiL8QclOdl"
      },
      "source": [
        "# Use `wandb.log` for custom metrics\n",
        "\n",
        "Here, we log the error rate on the test set."
      ]
    },
    {
      "cell_type": "code",
      "execution_count": 8,
      "metadata": {
        "colab": {
          "base_uri": "https://localhost:8080/",
          "height": 408,
          "referenced_widgets": [
            "d347c2e63a744514bf57483eb8ef5143",
            "d1e1697734274a83bde045c9dab65670",
            "876dd081234941a99be558805cb79efe",
            "ba3cc2a4d8ed4fa1bb1c9d164c64c35a",
            "616f077819db46429bd4bc43880374e2",
            "76a53492dbb949a88a809442137476c7",
            "ae3470ac57034b5d91af0172732c3a58",
            "1742e773fb3545e7bfa5edfe9d8a4799"
          ]
        },
        "id": "NFPqUwEglOdl",
        "outputId": "d5441531-6f73-4d3a-d098-016817cd0443"
      },
      "outputs": [
        {
          "output_type": "stream",
          "name": "stdout",
          "text": [
            "313/313 [==============================] - 7s 22ms/step - loss: 2.0220 - acc: 0.2196\n",
            "Test Error Rate:  78.04\n"
          ]
        },
        {
          "output_type": "display_data",
          "data": {
            "text/plain": [
              "<IPython.core.display.HTML object>"
            ],
            "text/html": [
              "Waiting for W&B process to finish... <strong style=\"color:green\">(success).</strong>"
            ]
          },
          "metadata": {}
        },
        {
          "output_type": "display_data",
          "data": {
            "text/plain": [
              "VBox(children=(Label(value='0.494 MB of 0.494 MB uploaded (0.000 MB deduped)\\r'), FloatProgress(value=1.0, max…"
            ],
            "application/vnd.jupyter.widget-view+json": {
              "version_major": 2,
              "version_minor": 0,
              "model_id": "d347c2e63a744514bf57483eb8ef5143"
            }
          },
          "metadata": {}
        },
        {
          "output_type": "display_data",
          "data": {
            "text/plain": [
              "<IPython.core.display.HTML object>"
            ],
            "text/html": [
              "<style>\n",
              "    table.wandb td:nth-child(1) { padding: 0 10px; text-align: left ; width: auto;} td:nth-child(2) {text-align: left ; width: 100%}\n",
              "    .wandb-row { display: flex; flex-direction: row; flex-wrap: wrap; justify-content: flex-start; width: 100% }\n",
              "    .wandb-col { display: flex; flex-direction: column; flex-basis: 100%; flex: 1; padding: 10px; }\n",
              "    </style>\n",
              "<div class=\"wandb-row\"><div class=\"wandb-col\"><h3>Run history:</h3><br/><table class=\"wandb\"><tr><td>Test Error Rate</td><td>▁</td></tr><tr><td>acc</td><td>▁▃▆▆█</td></tr><tr><td>epoch</td><td>▁▃▅▆█</td></tr><tr><td>loss</td><td>█▇▄▃▁</td></tr><tr><td>val_acc</td><td>▁▅▄▇█</td></tr><tr><td>val_loss</td><td>█▄▄▂▁</td></tr></table><br/></div><div class=\"wandb-col\"><h3>Run summary:</h3><br/><table class=\"wandb\"><tr><td>Test Error Rate</td><td>78.04</td></tr><tr><td>acc</td><td>0.1954</td></tr><tr><td>best_epoch</td><td>4</td></tr><tr><td>best_val_loss</td><td>2.02201</td></tr><tr><td>epoch</td><td>4</td></tr><tr><td>loss</td><td>2.04895</td></tr><tr><td>val_acc</td><td>0.2196</td></tr><tr><td>val_loss</td><td>2.02201</td></tr></table><br/></div></div>"
            ]
          },
          "metadata": {}
        },
        {
          "output_type": "display_data",
          "data": {
            "text/plain": [
              "<IPython.core.display.HTML object>"
            ],
            "text/html": [
              "Synced <strong style=\"color:#cdcd00\">radiant-pond-1</strong>: <a href=\"https://wandb.ai/claireye/my-keras-integration/runs/3jaol9rl\" target=\"_blank\">https://wandb.ai/claireye/my-keras-integration/runs/3jaol9rl</a><br/>Synced 5 W&B file(s), 1 media file(s), 0 artifact file(s) and 1 other file(s)"
            ]
          },
          "metadata": {}
        },
        {
          "output_type": "display_data",
          "data": {
            "text/plain": [
              "<IPython.core.display.HTML object>"
            ],
            "text/html": [
              "Find logs at: <code>./wandb/run-20220527_082920-3jaol9rl/logs</code>"
            ]
          },
          "metadata": {}
        }
      ],
      "source": [
        "loss, accuracy = model.evaluate(x_test, y_test)\n",
        "print('Test Error Rate: ', round((1 - accuracy) * 100, 2))\n",
        "\n",
        "# With wandb.log, we can easily pass in metrics as key-value pairs.\n",
        "wandb.log({'Test Error Rate': round((1 - accuracy) * 100, 2)})\n",
        "\n",
        "run.finish()"
      ]
    },
    {
      "cell_type": "markdown",
      "metadata": {
        "id": "A-ZFbg0RlOdm"
      },
      "source": [
        "# Log predictions on test data with `WandbCallback`"
      ]
    },
    {
      "cell_type": "code",
      "execution_count": 9,
      "metadata": {
        "colab": {
          "base_uri": "https://localhost:8080/",
          "height": 639
        },
        "id": "hqzhCM7xlOdn",
        "outputId": "da3fbdda-f73e-431a-a31b-7c777a1e9041"
      },
      "outputs": [
        {
          "output_type": "display_data",
          "data": {
            "text/plain": [
              "<IPython.core.display.HTML object>"
            ],
            "text/html": [
              "Tracking run with wandb version 0.12.17"
            ]
          },
          "metadata": {}
        },
        {
          "output_type": "display_data",
          "data": {
            "text/plain": [
              "<IPython.core.display.HTML object>"
            ],
            "text/html": [
              "Run data is saved locally in <code>/content/wandb/run-20220527_083755-28ntkcf8</code>"
            ]
          },
          "metadata": {}
        },
        {
          "output_type": "display_data",
          "data": {
            "text/plain": [
              "<IPython.core.display.HTML object>"
            ],
            "text/html": [
              "Syncing run <strong><a href=\"https://wandb.ai/claireye/my-keras-integration/runs/28ntkcf8\" target=\"_blank\">dutiful-wildflower-2</a></strong> to <a href=\"https://wandb.ai/claireye/my-keras-integration\" target=\"_blank\">Weights & Biases</a> (<a href=\"https://wandb.me/run\" target=\"_blank\">docs</a>)<br/>"
            ]
          },
          "metadata": {}
        },
        {
          "output_type": "stream",
          "name": "stdout",
          "text": [
            "Model: \"model\"\n",
            "_________________________________________________________________\n",
            " Layer (type)                Output Shape              Param #   \n",
            "=================================================================\n",
            " input_1 (InputLayer)        [(None, 32, 32, 3)]       0         \n",
            "                                                                 \n",
            " conv2d (Conv2D)             (None, 30, 30, 32)        896       \n",
            "                                                                 \n",
            " conv2d_1 (Conv2D)           (None, 28, 28, 32)        9248      \n",
            "                                                                 \n",
            " max_pooling2d (MaxPooling2D  (None, 14, 14, 32)       0         \n",
            " )                                                               \n",
            "                                                                 \n",
            " conv2d_2 (Conv2D)           (None, 12, 12, 32)        9248      \n",
            "                                                                 \n",
            " conv2d_3 (Conv2D)           (None, 10, 10, 32)        9248      \n",
            "                                                                 \n",
            " global_average_pooling2d (G  (None, 32)               0         \n",
            " lobalAveragePooling2D)                                          \n",
            "                                                                 \n",
            " dense (Dense)               (None, 128)               4224      \n",
            "                                                                 \n",
            " dense_1 (Dense)             (None, 32)                4128      \n",
            "                                                                 \n",
            " dense_2 (Dense)             (None, 10)                330       \n",
            "                                                                 \n",
            "=================================================================\n",
            "Total params: 37,322\n",
            "Trainable params: 37,322\n",
            "Non-trainable params: 0\n",
            "_________________________________________________________________\n"
          ]
        }
      ],
      "source": [
        "# Initialize wandb with your project name\n",
        "run = wandb.init(project='my-keras-integration',\n",
        "                 config={  # and include hyperparameters and metadata\n",
        "                     \"learning_rate\": 0.001,\n",
        "                     \"epochs\": 5,\n",
        "                     \"batch_size\": 32,\n",
        "                     \"loss_function\": \"sparse_categorical_crossentropy\",\n",
        "                     \"architecture\": \"CNN\",\n",
        "                     \"dataset\": \"CIFAR-10\"\n",
        "                 })\n",
        "config = wandb.config  # We'll use this to configure our experiment\n",
        "\n",
        "# Initialize model like you usually do.\n",
        "tf.keras.backend.clear_session()\n",
        "model = Model()\n",
        "model.summary()\n",
        "\n",
        "# Compile model like you usually do.\n",
        "optimizer = tf.keras.optimizers.Adam(config.learning_rate) \n",
        "model.compile(optimizer, config.loss_function, metrics=['acc'])"
      ]
    },
    {
      "cell_type": "code",
      "execution_count": 10,
      "metadata": {
        "colab": {
          "base_uri": "https://localhost:8080/",
          "height": 575,
          "referenced_widgets": [
            "c71de1f1f09d49809427bb7ad2aa932f",
            "783c03e1d0044a99b464889ad589e1bf",
            "cf8b6b6180c64de597c93d728ebe4342",
            "f2dada7060ce4bf7994384953797757d",
            "2c0fd5f8de27427990ab3bf08a8d1e52",
            "376561695ef746af949073a85e388c47",
            "e9770e321de84ca6a815b1cc23356186",
            "2295f15f7f02432f91ad838a287c4a15"
          ]
        },
        "id": "CY0tVLZmlOdn",
        "outputId": "56d26971-17f8-4deb-f3d7-bc03a16e605d"
      },
      "outputs": [
        {
          "output_type": "stream",
          "name": "stderr",
          "text": [
            "\u001b[34m\u001b[1mwandb\u001b[0m: \u001b[33mWARNING\u001b[0m The data_type argument of wandb.keras.WandbCallback is deprecated and will be removed in a future release. Please use input_type instead.\n",
            "\u001b[34m\u001b[1mwandb\u001b[0m: \u001b[33mWARNING\u001b[0m Setting input_type = data_type.\n"
          ]
        },
        {
          "output_type": "stream",
          "name": "stdout",
          "text": [
            "Epoch 1/5\n",
            "313/313 [==============================] - 36s 113ms/step - loss: 2.0887 - acc: 0.1937 - val_loss: 1.8994 - val_acc: 0.2633 - _timestamp: 1653640728.0000 - _runtime: 53.0000\n",
            "Epoch 2/5\n",
            "313/313 [==============================] - 35s 111ms/step - loss: 1.8573 - acc: 0.2735 - val_loss: 1.8111 - val_acc: 0.3009 - _timestamp: 1653640763.0000 - _runtime: 88.0000\n",
            "Epoch 3/5\n",
            "313/313 [==============================] - 35s 110ms/step - loss: 1.7734 - acc: 0.3138 - val_loss: 1.6803 - val_acc: 0.3579 - _timestamp: 1653640798.0000 - _runtime: 123.0000\n",
            "Epoch 4/5\n",
            "313/313 [==============================] - 34s 109ms/step - loss: 1.6694 - acc: 0.3578 - val_loss: 1.6763 - val_acc: 0.3493 - _timestamp: 1653640832.0000 - _runtime: 157.0000\n",
            "Epoch 5/5\n",
            "313/313 [==============================] - 35s 111ms/step - loss: 1.5891 - acc: 0.4032 - val_loss: 1.5495 - val_acc: 0.4218 - _timestamp: 1653640867.0000 - _runtime: 192.0000\n"
          ]
        },
        {
          "output_type": "display_data",
          "data": {
            "text/plain": [
              "<IPython.core.display.HTML object>"
            ],
            "text/html": [
              "Waiting for W&B process to finish... <strong style=\"color:green\">(success).</strong>"
            ]
          },
          "metadata": {}
        },
        {
          "output_type": "display_data",
          "data": {
            "text/plain": [
              "VBox(children=(Label(value='0.882 MB of 0.882 MB uploaded (0.000 MB deduped)\\r'), FloatProgress(value=1.0, max…"
            ],
            "application/vnd.jupyter.widget-view+json": {
              "version_major": 2,
              "version_minor": 0,
              "model_id": "c71de1f1f09d49809427bb7ad2aa932f"
            }
          },
          "metadata": {}
        },
        {
          "output_type": "display_data",
          "data": {
            "text/plain": [
              "<IPython.core.display.HTML object>"
            ],
            "text/html": [
              "<style>\n",
              "    table.wandb td:nth-child(1) { padding: 0 10px; text-align: left ; width: auto;} td:nth-child(2) {text-align: left ; width: 100%}\n",
              "    .wandb-row { display: flex; flex-direction: row; flex-wrap: wrap; justify-content: flex-start; width: 100% }\n",
              "    .wandb-col { display: flex; flex-direction: column; flex-basis: 100%; flex: 1; padding: 10px; }\n",
              "    </style>\n",
              "<div class=\"wandb-row\"><div class=\"wandb-col\"><h3>Run history:</h3><br/><table class=\"wandb\"><tr><td>acc</td><td>▁▄▅▆█</td></tr><tr><td>epoch</td><td>▁▃▅▆█</td></tr><tr><td>loss</td><td>█▅▄▂▁</td></tr><tr><td>val_acc</td><td>▁▃▅▅█</td></tr><tr><td>val_loss</td><td>█▆▄▄▁</td></tr></table><br/></div><div class=\"wandb-col\"><h3>Run summary:</h3><br/><table class=\"wandb\"><tr><td>acc</td><td>0.4032</td></tr><tr><td>best_epoch</td><td>4</td></tr><tr><td>best_val_loss</td><td>1.54947</td></tr><tr><td>epoch</td><td>4</td></tr><tr><td>loss</td><td>1.58907</td></tr><tr><td>val_acc</td><td>0.4218</td></tr><tr><td>val_loss</td><td>1.54947</td></tr></table><br/></div></div>"
            ]
          },
          "metadata": {}
        },
        {
          "output_type": "display_data",
          "data": {
            "text/plain": [
              "<IPython.core.display.HTML object>"
            ],
            "text/html": [
              "Synced <strong style=\"color:#cdcd00\">dutiful-wildflower-2</strong>: <a href=\"https://wandb.ai/claireye/my-keras-integration/runs/28ntkcf8\" target=\"_blank\">https://wandb.ai/claireye/my-keras-integration/runs/28ntkcf8</a><br/>Synced 5 W&B file(s), 181 media file(s), 0 artifact file(s) and 1 other file(s)"
            ]
          },
          "metadata": {}
        },
        {
          "output_type": "display_data",
          "data": {
            "text/plain": [
              "<IPython.core.display.HTML object>"
            ],
            "text/html": [
              "Find logs at: <code>./wandb/run-20220527_083755-28ntkcf8/logs</code>"
            ]
          },
          "metadata": {}
        }
      ],
      "source": [
        "# We focus on a subset of images, since this is for human review\n",
        "val_images, val_labels = x_test[:32], y_test[:32]\n",
        "\n",
        "# Our beloved model.fit returns\n",
        "# By passing arguments to WandbCallback, we change its behavior\n",
        "_ = model.fit(x_train, y_train,\n",
        "              epochs=config.epochs, \n",
        "              batch_size=config.batch_size,\n",
        "              validation_data=(x_test, y_test),\n",
        "              callbacks=[WandbCallback(data_type='image', \n",
        "                                       validation_data=(val_images, val_labels), \n",
        "                                       labels=CLASS_NAMES)])\n",
        "\n",
        "run.finish()"
      ]
    }
  ],
  "metadata": {
    "colab": {
      "toc_visible": true,
      "name": "Simple_Keras_Integration.ipynb",
      "provenance": [],
      "include_colab_link": true
    },
    "kernelspec": {
      "display_name": "Python 3",
      "name": "python3"
    },
    "widgets": {
      "application/vnd.jupyter.widget-state+json": {
        "d347c2e63a744514bf57483eb8ef5143": {
          "model_module": "@jupyter-widgets/controls",
          "model_name": "VBoxModel",
          "model_module_version": "1.5.0",
          "state": {
            "_dom_classes": [],
            "_model_module": "@jupyter-widgets/controls",
            "_model_module_version": "1.5.0",
            "_model_name": "VBoxModel",
            "_view_count": null,
            "_view_module": "@jupyter-widgets/controls",
            "_view_module_version": "1.5.0",
            "_view_name": "VBoxView",
            "box_style": "",
            "children": [
              "IPY_MODEL_d1e1697734274a83bde045c9dab65670",
              "IPY_MODEL_876dd081234941a99be558805cb79efe"
            ],
            "layout": "IPY_MODEL_ba3cc2a4d8ed4fa1bb1c9d164c64c35a"
          }
        },
        "d1e1697734274a83bde045c9dab65670": {
          "model_module": "@jupyter-widgets/controls",
          "model_name": "LabelModel",
          "model_module_version": "1.5.0",
          "state": {
            "_dom_classes": [],
            "_model_module": "@jupyter-widgets/controls",
            "_model_module_version": "1.5.0",
            "_model_name": "LabelModel",
            "_view_count": null,
            "_view_module": "@jupyter-widgets/controls",
            "_view_module_version": "1.5.0",
            "_view_name": "LabelView",
            "description": "",
            "description_tooltip": null,
            "layout": "IPY_MODEL_616f077819db46429bd4bc43880374e2",
            "placeholder": "​",
            "style": "IPY_MODEL_76a53492dbb949a88a809442137476c7",
            "value": "0.504 MB of 0.504 MB uploaded (0.000 MB deduped)\r"
          }
        },
        "876dd081234941a99be558805cb79efe": {
          "model_module": "@jupyter-widgets/controls",
          "model_name": "FloatProgressModel",
          "model_module_version": "1.5.0",
          "state": {
            "_dom_classes": [],
            "_model_module": "@jupyter-widgets/controls",
            "_model_module_version": "1.5.0",
            "_model_name": "FloatProgressModel",
            "_view_count": null,
            "_view_module": "@jupyter-widgets/controls",
            "_view_module_version": "1.5.0",
            "_view_name": "ProgressView",
            "bar_style": "",
            "description": "",
            "description_tooltip": null,
            "layout": "IPY_MODEL_ae3470ac57034b5d91af0172732c3a58",
            "max": 1,
            "min": 0,
            "orientation": "horizontal",
            "style": "IPY_MODEL_1742e773fb3545e7bfa5edfe9d8a4799",
            "value": 1
          }
        },
        "ba3cc2a4d8ed4fa1bb1c9d164c64c35a": {
          "model_module": "@jupyter-widgets/base",
          "model_name": "LayoutModel",
          "model_module_version": "1.2.0",
          "state": {
            "_model_module": "@jupyter-widgets/base",
            "_model_module_version": "1.2.0",
            "_model_name": "LayoutModel",
            "_view_count": null,
            "_view_module": "@jupyter-widgets/base",
            "_view_module_version": "1.2.0",
            "_view_name": "LayoutView",
            "align_content": null,
            "align_items": null,
            "align_self": null,
            "border": null,
            "bottom": null,
            "display": null,
            "flex": null,
            "flex_flow": null,
            "grid_area": null,
            "grid_auto_columns": null,
            "grid_auto_flow": null,
            "grid_auto_rows": null,
            "grid_column": null,
            "grid_gap": null,
            "grid_row": null,
            "grid_template_areas": null,
            "grid_template_columns": null,
            "grid_template_rows": null,
            "height": null,
            "justify_content": null,
            "justify_items": null,
            "left": null,
            "margin": null,
            "max_height": null,
            "max_width": null,
            "min_height": null,
            "min_width": null,
            "object_fit": null,
            "object_position": null,
            "order": null,
            "overflow": null,
            "overflow_x": null,
            "overflow_y": null,
            "padding": null,
            "right": null,
            "top": null,
            "visibility": null,
            "width": null
          }
        },
        "616f077819db46429bd4bc43880374e2": {
          "model_module": "@jupyter-widgets/base",
          "model_name": "LayoutModel",
          "model_module_version": "1.2.0",
          "state": {
            "_model_module": "@jupyter-widgets/base",
            "_model_module_version": "1.2.0",
            "_model_name": "LayoutModel",
            "_view_count": null,
            "_view_module": "@jupyter-widgets/base",
            "_view_module_version": "1.2.0",
            "_view_name": "LayoutView",
            "align_content": null,
            "align_items": null,
            "align_self": null,
            "border": null,
            "bottom": null,
            "display": null,
            "flex": null,
            "flex_flow": null,
            "grid_area": null,
            "grid_auto_columns": null,
            "grid_auto_flow": null,
            "grid_auto_rows": null,
            "grid_column": null,
            "grid_gap": null,
            "grid_row": null,
            "grid_template_areas": null,
            "grid_template_columns": null,
            "grid_template_rows": null,
            "height": null,
            "justify_content": null,
            "justify_items": null,
            "left": null,
            "margin": null,
            "max_height": null,
            "max_width": null,
            "min_height": null,
            "min_width": null,
            "object_fit": null,
            "object_position": null,
            "order": null,
            "overflow": null,
            "overflow_x": null,
            "overflow_y": null,
            "padding": null,
            "right": null,
            "top": null,
            "visibility": null,
            "width": null
          }
        },
        "76a53492dbb949a88a809442137476c7": {
          "model_module": "@jupyter-widgets/controls",
          "model_name": "DescriptionStyleModel",
          "model_module_version": "1.5.0",
          "state": {
            "_model_module": "@jupyter-widgets/controls",
            "_model_module_version": "1.5.0",
            "_model_name": "DescriptionStyleModel",
            "_view_count": null,
            "_view_module": "@jupyter-widgets/base",
            "_view_module_version": "1.2.0",
            "_view_name": "StyleView",
            "description_width": ""
          }
        },
        "ae3470ac57034b5d91af0172732c3a58": {
          "model_module": "@jupyter-widgets/base",
          "model_name": "LayoutModel",
          "model_module_version": "1.2.0",
          "state": {
            "_model_module": "@jupyter-widgets/base",
            "_model_module_version": "1.2.0",
            "_model_name": "LayoutModel",
            "_view_count": null,
            "_view_module": "@jupyter-widgets/base",
            "_view_module_version": "1.2.0",
            "_view_name": "LayoutView",
            "align_content": null,
            "align_items": null,
            "align_self": null,
            "border": null,
            "bottom": null,
            "display": null,
            "flex": null,
            "flex_flow": null,
            "grid_area": null,
            "grid_auto_columns": null,
            "grid_auto_flow": null,
            "grid_auto_rows": null,
            "grid_column": null,
            "grid_gap": null,
            "grid_row": null,
            "grid_template_areas": null,
            "grid_template_columns": null,
            "grid_template_rows": null,
            "height": null,
            "justify_content": null,
            "justify_items": null,
            "left": null,
            "margin": null,
            "max_height": null,
            "max_width": null,
            "min_height": null,
            "min_width": null,
            "object_fit": null,
            "object_position": null,
            "order": null,
            "overflow": null,
            "overflow_x": null,
            "overflow_y": null,
            "padding": null,
            "right": null,
            "top": null,
            "visibility": null,
            "width": null
          }
        },
        "1742e773fb3545e7bfa5edfe9d8a4799": {
          "model_module": "@jupyter-widgets/controls",
          "model_name": "ProgressStyleModel",
          "model_module_version": "1.5.0",
          "state": {
            "_model_module": "@jupyter-widgets/controls",
            "_model_module_version": "1.5.0",
            "_model_name": "ProgressStyleModel",
            "_view_count": null,
            "_view_module": "@jupyter-widgets/base",
            "_view_module_version": "1.2.0",
            "_view_name": "StyleView",
            "bar_color": null,
            "description_width": ""
          }
        },
        "c71de1f1f09d49809427bb7ad2aa932f": {
          "model_module": "@jupyter-widgets/controls",
          "model_name": "VBoxModel",
          "model_module_version": "1.5.0",
          "state": {
            "_dom_classes": [],
            "_model_module": "@jupyter-widgets/controls",
            "_model_module_version": "1.5.0",
            "_model_name": "VBoxModel",
            "_view_count": null,
            "_view_module": "@jupyter-widgets/controls",
            "_view_module_version": "1.5.0",
            "_view_name": "VBoxView",
            "box_style": "",
            "children": [
              "IPY_MODEL_783c03e1d0044a99b464889ad589e1bf",
              "IPY_MODEL_cf8b6b6180c64de597c93d728ebe4342"
            ],
            "layout": "IPY_MODEL_f2dada7060ce4bf7994384953797757d"
          }
        },
        "783c03e1d0044a99b464889ad589e1bf": {
          "model_module": "@jupyter-widgets/controls",
          "model_name": "LabelModel",
          "model_module_version": "1.5.0",
          "state": {
            "_dom_classes": [],
            "_model_module": "@jupyter-widgets/controls",
            "_model_module_version": "1.5.0",
            "_model_name": "LabelModel",
            "_view_count": null,
            "_view_module": "@jupyter-widgets/controls",
            "_view_module_version": "1.5.0",
            "_view_name": "LabelView",
            "description": "",
            "description_tooltip": null,
            "layout": "IPY_MODEL_2c0fd5f8de27427990ab3bf08a8d1e52",
            "placeholder": "​",
            "style": "IPY_MODEL_376561695ef746af949073a85e388c47",
            "value": "0.894 MB of 0.894 MB uploaded (0.000 MB deduped)\r"
          }
        },
        "cf8b6b6180c64de597c93d728ebe4342": {
          "model_module": "@jupyter-widgets/controls",
          "model_name": "FloatProgressModel",
          "model_module_version": "1.5.0",
          "state": {
            "_dom_classes": [],
            "_model_module": "@jupyter-widgets/controls",
            "_model_module_version": "1.5.0",
            "_model_name": "FloatProgressModel",
            "_view_count": null,
            "_view_module": "@jupyter-widgets/controls",
            "_view_module_version": "1.5.0",
            "_view_name": "ProgressView",
            "bar_style": "",
            "description": "",
            "description_tooltip": null,
            "layout": "IPY_MODEL_e9770e321de84ca6a815b1cc23356186",
            "max": 1,
            "min": 0,
            "orientation": "horizontal",
            "style": "IPY_MODEL_2295f15f7f02432f91ad838a287c4a15",
            "value": 1
          }
        },
        "f2dada7060ce4bf7994384953797757d": {
          "model_module": "@jupyter-widgets/base",
          "model_name": "LayoutModel",
          "model_module_version": "1.2.0",
          "state": {
            "_model_module": "@jupyter-widgets/base",
            "_model_module_version": "1.2.0",
            "_model_name": "LayoutModel",
            "_view_count": null,
            "_view_module": "@jupyter-widgets/base",
            "_view_module_version": "1.2.0",
            "_view_name": "LayoutView",
            "align_content": null,
            "align_items": null,
            "align_self": null,
            "border": null,
            "bottom": null,
            "display": null,
            "flex": null,
            "flex_flow": null,
            "grid_area": null,
            "grid_auto_columns": null,
            "grid_auto_flow": null,
            "grid_auto_rows": null,
            "grid_column": null,
            "grid_gap": null,
            "grid_row": null,
            "grid_template_areas": null,
            "grid_template_columns": null,
            "grid_template_rows": null,
            "height": null,
            "justify_content": null,
            "justify_items": null,
            "left": null,
            "margin": null,
            "max_height": null,
            "max_width": null,
            "min_height": null,
            "min_width": null,
            "object_fit": null,
            "object_position": null,
            "order": null,
            "overflow": null,
            "overflow_x": null,
            "overflow_y": null,
            "padding": null,
            "right": null,
            "top": null,
            "visibility": null,
            "width": null
          }
        },
        "2c0fd5f8de27427990ab3bf08a8d1e52": {
          "model_module": "@jupyter-widgets/base",
          "model_name": "LayoutModel",
          "model_module_version": "1.2.0",
          "state": {
            "_model_module": "@jupyter-widgets/base",
            "_model_module_version": "1.2.0",
            "_model_name": "LayoutModel",
            "_view_count": null,
            "_view_module": "@jupyter-widgets/base",
            "_view_module_version": "1.2.0",
            "_view_name": "LayoutView",
            "align_content": null,
            "align_items": null,
            "align_self": null,
            "border": null,
            "bottom": null,
            "display": null,
            "flex": null,
            "flex_flow": null,
            "grid_area": null,
            "grid_auto_columns": null,
            "grid_auto_flow": null,
            "grid_auto_rows": null,
            "grid_column": null,
            "grid_gap": null,
            "grid_row": null,
            "grid_template_areas": null,
            "grid_template_columns": null,
            "grid_template_rows": null,
            "height": null,
            "justify_content": null,
            "justify_items": null,
            "left": null,
            "margin": null,
            "max_height": null,
            "max_width": null,
            "min_height": null,
            "min_width": null,
            "object_fit": null,
            "object_position": null,
            "order": null,
            "overflow": null,
            "overflow_x": null,
            "overflow_y": null,
            "padding": null,
            "right": null,
            "top": null,
            "visibility": null,
            "width": null
          }
        },
        "376561695ef746af949073a85e388c47": {
          "model_module": "@jupyter-widgets/controls",
          "model_name": "DescriptionStyleModel",
          "model_module_version": "1.5.0",
          "state": {
            "_model_module": "@jupyter-widgets/controls",
            "_model_module_version": "1.5.0",
            "_model_name": "DescriptionStyleModel",
            "_view_count": null,
            "_view_module": "@jupyter-widgets/base",
            "_view_module_version": "1.2.0",
            "_view_name": "StyleView",
            "description_width": ""
          }
        },
        "e9770e321de84ca6a815b1cc23356186": {
          "model_module": "@jupyter-widgets/base",
          "model_name": "LayoutModel",
          "model_module_version": "1.2.0",
          "state": {
            "_model_module": "@jupyter-widgets/base",
            "_model_module_version": "1.2.0",
            "_model_name": "LayoutModel",
            "_view_count": null,
            "_view_module": "@jupyter-widgets/base",
            "_view_module_version": "1.2.0",
            "_view_name": "LayoutView",
            "align_content": null,
            "align_items": null,
            "align_self": null,
            "border": null,
            "bottom": null,
            "display": null,
            "flex": null,
            "flex_flow": null,
            "grid_area": null,
            "grid_auto_columns": null,
            "grid_auto_flow": null,
            "grid_auto_rows": null,
            "grid_column": null,
            "grid_gap": null,
            "grid_row": null,
            "grid_template_areas": null,
            "grid_template_columns": null,
            "grid_template_rows": null,
            "height": null,
            "justify_content": null,
            "justify_items": null,
            "left": null,
            "margin": null,
            "max_height": null,
            "max_width": null,
            "min_height": null,
            "min_width": null,
            "object_fit": null,
            "object_position": null,
            "order": null,
            "overflow": null,
            "overflow_x": null,
            "overflow_y": null,
            "padding": null,
            "right": null,
            "top": null,
            "visibility": null,
            "width": null
          }
        },
        "2295f15f7f02432f91ad838a287c4a15": {
          "model_module": "@jupyter-widgets/controls",
          "model_name": "ProgressStyleModel",
          "model_module_version": "1.5.0",
          "state": {
            "_model_module": "@jupyter-widgets/controls",
            "_model_module_version": "1.5.0",
            "_model_name": "ProgressStyleModel",
            "_view_count": null,
            "_view_module": "@jupyter-widgets/base",
            "_view_module_version": "1.2.0",
            "_view_name": "StyleView",
            "bar_color": null,
            "description_width": ""
          }
        }
      }
    }
  },
  "nbformat": 4,
  "nbformat_minor": 0
}