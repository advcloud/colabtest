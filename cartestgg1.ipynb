{
  "nbformat": 4,
  "nbformat_minor": 0,
  "metadata": {
    "colab": {
      "name": "Untitleda1.ipynb",
      "provenance": [],
      "collapsed_sections": [],
      "mount_file_id": "1Xp3LfcGdSjOlkhl9kAn_oywKxzFXHtRk",
      "authorship_tag": "ABX9TyMAXYm66utKnQvRyfFLwH++",
      "include_colab_link": true
    },
    "kernelspec": {
      "name": "python3",
      "display_name": "Python 3"
    },
    "language_info": {
      "name": "python"
    }
  },
  "cells": [
    {
      "cell_type": "markdown",
      "metadata": {
        "id": "view-in-github",
        "colab_type": "text"
      },
      "source": [
        "<a href=\"https://colab.research.google.com/github/advcloud/colabtest/blob/main/cartestgg1.ipynb\" target=\"_parent\"><img src=\"https://colab.research.google.com/assets/colab-badge.svg\" alt=\"Open In Colab\"/></a>"
      ]
    },
    {
      "cell_type": "code",
      "execution_count": 1,
      "metadata": {
        "colab": {
          "base_uri": "https://localhost:8080/"
        },
        "id": "Ht8m-1-kiFOt",
        "outputId": "2fd215be-ea5c-4fee-dcde-36c9fc901230"
      },
      "outputs": [
        {
          "output_type": "stream",
          "name": "stdout",
          "text": [
            "Looking in indexes: https://pypi.org/simple, https://us-python.pkg.dev/colab-wheels/public/simple/\n",
            "Collecting git+https://github.com/advcloud/colablibm.git\n",
            "  Cloning https://github.com/advcloud/colablibm.git to /tmp/pip-req-build-0jn09uw4\n",
            "  Running command git clone -q https://github.com/advcloud/colablibm.git /tmp/pip-req-build-0jn09uw4\n",
            "Collecting ffmpeg-python\n",
            "  Downloading ffmpeg_python-0.2.0-py3-none-any.whl (25 kB)\n",
            "Collecting mediapipe\n",
            "  Downloading mediapipe-0.8.10-cp37-cp37m-manylinux_2_17_x86_64.manylinux2014_x86_64.whl (32.8 MB)\n",
            "\u001b[K     |████████████████████████████████| 32.8 MB 324 kB/s \n",
            "\u001b[?25hRequirement already satisfied: pillow in /usr/local/lib/python3.7/dist-packages (from colablibm==1.0) (7.1.2)\n",
            "Requirement already satisfied: numpy in /usr/local/lib/python3.7/dist-packages (from colablibm==1.0) (1.21.6)\n",
            "Requirement already satisfied: future in /usr/local/lib/python3.7/dist-packages (from ffmpeg-python->colablibm==1.0) (0.16.0)\n",
            "Requirement already satisfied: protobuf>=3.11.4 in /usr/local/lib/python3.7/dist-packages (from mediapipe->colablibm==1.0) (3.17.3)\n",
            "Requirement already satisfied: matplotlib in /usr/local/lib/python3.7/dist-packages (from mediapipe->colablibm==1.0) (3.2.2)\n",
            "Requirement already satisfied: attrs>=19.1.0 in /usr/local/lib/python3.7/dist-packages (from mediapipe->colablibm==1.0) (21.4.0)\n",
            "Requirement already satisfied: absl-py in /usr/local/lib/python3.7/dist-packages (from mediapipe->colablibm==1.0) (1.0.0)\n",
            "Requirement already satisfied: opencv-contrib-python in /usr/local/lib/python3.7/dist-packages (from mediapipe->colablibm==1.0) (4.1.2.30)\n",
            "Requirement already satisfied: six>=1.9 in /usr/local/lib/python3.7/dist-packages (from protobuf>=3.11.4->mediapipe->colablibm==1.0) (1.15.0)\n",
            "Requirement already satisfied: pyparsing!=2.0.4,!=2.1.2,!=2.1.6,>=2.0.1 in /usr/local/lib/python3.7/dist-packages (from matplotlib->mediapipe->colablibm==1.0) (3.0.9)\n",
            "Requirement already satisfied: python-dateutil>=2.1 in /usr/local/lib/python3.7/dist-packages (from matplotlib->mediapipe->colablibm==1.0) (2.8.2)\n",
            "Requirement already satisfied: kiwisolver>=1.0.1 in /usr/local/lib/python3.7/dist-packages (from matplotlib->mediapipe->colablibm==1.0) (1.4.2)\n",
            "Requirement already satisfied: cycler>=0.10 in /usr/local/lib/python3.7/dist-packages (from matplotlib->mediapipe->colablibm==1.0) (0.11.0)\n",
            "Requirement already satisfied: typing-extensions in /usr/local/lib/python3.7/dist-packages (from kiwisolver>=1.0.1->matplotlib->mediapipe->colablibm==1.0) (4.2.0)\n",
            "Building wheels for collected packages: colablibm\n",
            "  Building wheel for colablibm (setup.py) ... \u001b[?25l\u001b[?25hdone\n",
            "  Created wheel for colablibm: filename=colablibm-1.0-py3-none-any.whl size=1351 sha256=8ea6fa8083bb0ea5a448a6a05fa06395f2089aad42f7b3fd1e63a53714fed7fc\n",
            "  Stored in directory: /tmp/pip-ephem-wheel-cache-2by7gdn2/wheels/f9/a7/b3/05fe44ff04c2d7e572c3ebf5d58ae7f5f0d53edde1d4aba60b\n",
            "Successfully built colablibm\n",
            "Installing collected packages: mediapipe, ffmpeg-python, colablibm\n",
            "Successfully installed colablibm-1.0 ffmpeg-python-0.2.0 mediapipe-0.8.10\n",
            "Cloning into 'colablib1'...\n",
            "remote: Enumerating objects: 19, done.\u001b[K\n",
            "remote: Counting objects: 100% (19/19), done.\u001b[K\n",
            "remote: Compressing objects: 100% (18/18), done.\u001b[K\n",
            "remote: Total 19 (delta 5), reused 0 (delta 0), pack-reused 0\u001b[K\n",
            "Unpacking objects: 100% (19/19), done.\n",
            "/content/colablib1\n"
          ]
        }
      ],
      "source": [
        "!pip install git+https://github.com/advcloud/colablibm.git\n",
        "!git clone https://github.com/advcloud/colablib1.git\n",
        "%cd colablib1\n",
        "import libmediacar1\n"
      ]
    },
    {
      "cell_type": "code",
      "source": [
        "snum1 = 0\n",
        "#claireye.com.tw\n",
        "input_path ='/content/drive/MyDrive/Github/car1/'\n",
        "input_name ='sop'\n",
        "stopa = 1"
      ],
      "metadata": {
        "id": "YsXwy1eUUdo5"
      },
      "execution_count": 118,
      "outputs": []
    },
    {
      "cell_type": "code",
      "source": [
        "from google.colab import files\n",
        "\n",
        "uploaded = files.upload()\n",
        "video_path = list(uploaded.keys())[0]"
      ],
      "metadata": {
        "colab": {
          "base_uri": "https://localhost:8080/",
          "resources": {
            "http://localhost:8080/nbextensions/google.colab/files.js": {
              "data": "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",
              "ok": true,
              "headers": [
                [
                  "content-type",
                  "application/javascript"
                ]
              ],
              "status": 200,
              "status_text": ""
            }
          },
          "height": 75
        },
        "id": "W6J3upffUKVL",
        "outputId": "309467c8-daec-4c64-b1eb-1e379fb27747"
      },
      "execution_count": 119,
      "outputs": [
        {
          "output_type": "display_data",
          "data": {
            "text/plain": [
              "<IPython.core.display.HTML object>"
            ],
            "text/html": [
              "\n",
              "     <input type=\"file\" id=\"files-1a8f4661-b4f5-4724-8b44-25d5a103ec11\" name=\"files[]\" multiple disabled\n",
              "        style=\"border:none\" />\n",
              "     <output id=\"result-1a8f4661-b4f5-4724-8b44-25d5a103ec11\">\n",
              "      Upload widget is only available when the cell has been executed in the\n",
              "      current browser session. Please rerun this cell to enable.\n",
              "      </output>\n",
              "      <script src=\"/nbextensions/google.colab/files.js\"></script> "
            ]
          },
          "metadata": {}
        },
        {
          "output_type": "stream",
          "name": "stdout",
          "text": [
            "Saving sop11.mp4 to sop11.mp4\n"
          ]
        }
      ]
    },
    {
      "cell_type": "code",
      "source": [
        "#claireye.com.tw\n",
        "snum1 +=1\n",
        "snum = str(snum1-1)\n",
        "wcsv1=input_path+input_name+str(snum1)+'.csv'"
      ],
      "metadata": {
        "id": "kbhhBVOkiomj"
      },
      "execution_count": 120,
      "outputs": []
    },
    {
      "cell_type": "code",
      "source": [
        "print (video_path)\n",
        "print (wcsv1)\n",
        "print (snum)"
      ],
      "metadata": {
        "colab": {
          "base_uri": "https://localhost:8080/"
        },
        "id": "0TwO39NlOGYn",
        "outputId": "1d2844ba-4e39-4515-dc49-e2405ef72bb1"
      },
      "execution_count": 121,
      "outputs": [
        {
          "output_type": "stream",
          "name": "stdout",
          "text": [
            "sop11.mp4\n",
            "/content/drive/MyDrive/Github/car1/sop11.csv\n",
            "10\n"
          ]
        }
      ]
    },
    {
      "cell_type": "code",
      "source": [
        "if libmediacar1.os.path.isdir('images'):\n",
        "    libmediacar1.shutil.rmtree('images')\n",
        " \n",
        "libmediacar1.os.makedirs('images', exist_ok=True)\n",
        "\n",
        "libmediacar1.video_2_images(video_path,libmediacar1.st,libmediacar1.intv,(libmediacar1.stop1*stopa))"
      ],
      "metadata": {
        "id": "iR8Pehw2_BIe"
      },
      "execution_count": 122,
      "outputs": []
    },
    {
      "cell_type": "code",
      "source": [
        "files=[]\n",
        "sop_1c = []\n",
        "sop_h1 =[]\n",
        "sop_h2 =[]\n",
        "sop_h3 =[]\n",
        "counta1 = 0\n",
        "t_handc = 0\n",
        "hlength1 = 0\n",
        "hlength2 = 0\n",
        "hlength3 = 0\n",
        "mp_drawing = libmediacar1.mp.solutions.drawing_utils\n",
        "for name in sorted(libmediacar1.glob.glob('./images/*.png')):\n",
        "    files.append(name)\n",
        "images = {name: libmediacar1.cv2.imread(name) for name in files}  \n",
        "for name, image in images.items():\n",
        "  # Convert the BGR image to RGB and process it with MediaPipe Pose.\n",
        "  results = libmediacar1.hands.process(libmediacar1.cv2.cvtColor(image, libmediacar1.cv2.COLOR_BGR2RGB))\n",
        " \n",
        "  # Draw pose landmarks.\n",
        "  annotated_image = image.copy()\n",
        "  countrt = 0\n",
        "  countlt = 0\n",
        "  if results.multi_hand_landmarks:\n",
        "      for hand_landmarks in results.multi_hand_landmarks:\n",
        "          libmediacar1.mpDraw.draw_landmarks(annotated_image,hand_landmarks, libmediacar1.mp_hands.HAND_CONNECTIONS)\n",
        "          countb1 = 0\n",
        "          kpoint = []\n",
        "          t_handc += 1\n",
        "          for point in libmediacar1.mp_hands.HandLandmark:\n",
        "              normalizedLandmark = hand_landmarks.landmark[point]\n",
        "              #print(point)\n",
        "              #print(\"c:\",countb1)\n",
        "              countb1 += 1\n",
        "              peak = (float(normalizedLandmark.x), float(normalizedLandmark.y))\n",
        "              kpoint.append(peak)\n",
        "        \n",
        "          sop_1c.append(kpoint)\n",
        "          if kpoint:\n",
        "              x1, y1 = kpoint[0][0], kpoint[0][1]\n",
        "              x2, y2 = kpoint[8][0], kpoint[8][1]\n",
        "              x3, y3 = kpoint[4][0], kpoint[4][1] \n",
        "              hlength1 = libmediacar1.math.hypot(x2-x1, y2-y1) \n",
        "              hlength2 = libmediacar1.math.hypot(x3-x1, y3-y1)\n",
        "              hlength3 = libmediacar1.math.hypot(x2-x3, y2-y3) \n",
        "          sop_h1.append(round(hlength1, 2)) \n",
        "          sop_h2.append(round(hlength2, 2))\n",
        "          sop_h3.append(round(hlength3, 2)) \n",
        "      for hand_index, hand_info in enumerate(results.multi_handedness):\n",
        "          hand_label = hand_info.classification[0].label\n",
        "          if (hand_label=='Right' ) :\n",
        "              countrt = 1\n",
        "          if (hand_label=='Left' ) :\n",
        "              countlt = 1\n",
        "  libmediacar1.cv2.putText(annotated_image, f'Left:{int(countrt)}',(30,240), libmediacar1.cv2.FONT_HERSHEY_PLAIN,3,(0,255,0),3 )   \n",
        "  libmediacar1.cv2.putText(annotated_image, f'Right:{int(countlt)}',(30,280), libmediacar1.cv2.FONT_HERSHEY_PLAIN,3,(0,255,0),3 )\n",
        "  libmediacar1.cv2.putText(annotated_image,f'angle1:{round(hlength1, 2)}',(30,580), libmediacar1.cv2.FONT_HERSHEY_PLAIN,3,(0,255,0),3  )    \n",
        "  libmediacar1.cv2.putText(annotated_image,f'angle2:{round(hlength2, 2)}',(30,530), libmediacar1.cv2.FONT_HERSHEY_PLAIN,3,(0,255,0),3  ) \n",
        "  libmediacar1.cv2.putText(annotated_image,f'angle3:{round(hlength3, 2)}',(30,480), libmediacar1.cv2.FONT_HERSHEY_PLAIN,3,(0,255,0),3  )     \n",
        "  libmediacar1.cv2.putText(annotated_image,f'Claireye:{int(t_handc)}',(30,680), libmediacar1.cv2.FONT_HERSHEY_PLAIN,3,(0,255,0),3  )\n",
        "   \n",
        "  counta1 += 1\n",
        "\n",
        "  libmediacar1.cv2.imwrite(name, annotated_image)  "
      ],
      "metadata": {
        "id": "T7dCG6_lLU1i"
      },
      "execution_count": 123,
      "outputs": []
    },
    {
      "cell_type": "code",
      "source": [
        "sop_1c = libmediacar1.np.asarray(sop_1c)\n",
        "sop_h1 = libmediacar1.np.asarray(sop_h1)\n",
        "sop_h2 = libmediacar1.np.asarray(sop_h2)\n",
        "sop_h3 = libmediacar1.np.asarray(sop_h3)\n",
        "sop_1c.shape"
      ],
      "metadata": {
        "colab": {
          "base_uri": "https://localhost:8080/"
        },
        "id": "n6arWWjA2iKT",
        "outputId": "5f267153-ede7-425b-aee3-e601c754f585"
      },
      "execution_count": 124,
      "outputs": [
        {
          "output_type": "execute_result",
          "data": {
            "text/plain": [
              "(31, 21, 2)"
            ]
          },
          "metadata": {},
          "execution_count": 124
        }
      ]
    },
    {
      "cell_type": "code",
      "source": [
        "properLabels = []\n",
        "for label in libmediacar1.labels:\n",
        "    properLabels.append(label + 'X')\n",
        "    properLabels.append(label + 'Y')\n",
        "\n",
        "with open(wcsv1, 'w+') as sopcsv:\n",
        "    sopwriter = libmediacar1.csv.writer(sopcsv, delimiter=',')\n",
        "    sopwriter.writerow(properLabels)\n",
        "    for cell in sop_1c:\n",
        "        sopwriter.writerow(cell.flatten())\n"
      ],
      "metadata": {
        "id": "rU0mmrga3BNH"
      },
      "execution_count": 125,
      "outputs": []
    },
    {
      "cell_type": "code",
      "source": [
        "Data=libmediacar1.pd.read_csv(wcsv1)\n",
        "ds = libmediacar1.pd.DataFrame()\n",
        "ds[\"h1\"] = sop_h1\n",
        "ds[\"h2\"] = sop_h2\n",
        "ds[\"h3\"] = sop_h3\n",
        "labels1=[]\n",
        "for i in range(0,t_handc):\n",
        "  labels1.append(snum)\n",
        "labels = libmediacar1.np.asarray(labels1)\n",
        "ds[\"label\"] = labels\n",
        "ds1=libmediacar1.pd.concat([Data, ds], axis=1)  "
      ],
      "metadata": {
        "id": "sM5iJ0083Jxa"
      },
      "execution_count": 126,
      "outputs": []
    },
    {
      "cell_type": "code",
      "source": [
        "ds1.to_csv(wcsv1)\n",
        "Data=libmediacar1.pd.read_csv(wcsv1)\n",
        "print(Data.head(10))\n"
      ],
      "metadata": {
        "colab": {
          "base_uri": "https://localhost:8080/"
        },
        "id": "G5aEj3h1-N7f",
        "outputId": "264078a1-ce80-46ea-e14f-0e081e644c37"
      },
      "execution_count": 127,
      "outputs": [
        {
          "output_type": "stream",
          "name": "stdout",
          "text": [
            "   Unnamed: 0    WRISTX    WRISTY   TB_CMCX   TB_CMCY   TB_MCPX   TB_MCPY  \\\n",
            "0           0  0.350608  0.411830  0.360826  0.390679  0.384766  0.375631   \n",
            "1           1  0.349784  0.412165  0.359016  0.391282  0.382945  0.376006   \n",
            "2           2  0.355116  0.402686  0.366215  0.381230  0.392883  0.365749   \n",
            "3           3  0.365999  0.394836  0.379530  0.373285  0.403812  0.358502   \n",
            "4           4  0.380441  0.388017  0.393987  0.367856  0.416290  0.353945   \n",
            "5           5  0.398746  0.385233  0.416090  0.365917  0.440422  0.353862   \n",
            "6           6  0.418228  0.385936  0.443746  0.368190  0.472685  0.359968   \n",
            "7           7  0.438781  0.391648  0.469207  0.376593  0.499912  0.368217   \n",
            "8           8  0.491327  0.395492  0.512466  0.381331  0.545575  0.373953   \n",
            "9           9  0.459438  0.398724  0.493908  0.382750  0.529275  0.374549   \n",
            "\n",
            "     TB_IPX    TB_IPY   TB_TIPX  ...   PY_MCPX   PY_MCPY    PY_IPX    PY_IPY  \\\n",
            "0  0.409240  0.368743  0.428030  ...  0.430724  0.422985  0.421478  0.421273   \n",
            "1  0.408340  0.369750  0.427595  ...  0.431845  0.422449  0.422399  0.420008   \n",
            "2  0.419285  0.359098  0.438218  ...  0.439147  0.413021  0.429878  0.411232   \n",
            "3  0.425941  0.351309  0.440724  ...  0.437798  0.405111  0.429613  0.403444   \n",
            "4  0.436913  0.346961  0.451916  ...  0.460347  0.400909  0.453414  0.398933   \n",
            "5  0.463525  0.348981  0.480032  ...  0.479660  0.401909  0.473453  0.399904   \n",
            "6  0.496837  0.357747  0.513774  ...  0.499103  0.407768  0.500910  0.406928   \n",
            "7  0.524446  0.365138  0.541560  ...  0.525832  0.411952  0.525161  0.410861   \n",
            "8  0.572651  0.372289  0.592555  ...  0.560025  0.418999  0.558504  0.414500   \n",
            "9  0.557628  0.372605  0.578264  ...  0.538351  0.416227  0.550072  0.416880   \n",
            "\n",
            "    PY_TIPX   PY_TIPY    h1    h2    h3  label  \n",
            "0  0.411423  0.420450  0.08  0.09  0.02     10  \n",
            "1  0.411043  0.419300  0.08  0.09  0.02     10  \n",
            "2  0.418654  0.410413  0.08  0.10  0.02     10  \n",
            "3  0.421008  0.402983  0.08  0.09  0.03     10  \n",
            "4  0.443005  0.397807  0.12  0.08  0.05     10  \n",
            "5  0.463122  0.397952  0.12  0.09  0.04     10  \n",
            "6  0.498746  0.406108  0.14  0.10  0.05     10  \n",
            "7  0.518513  0.409282  0.11  0.11  0.03     10  \n",
            "8  0.550902  0.411550  0.12  0.10  0.03     10  \n",
            "9  0.556949  0.416898  0.14  0.12  0.03     10  \n",
            "\n",
            "[10 rows x 47 columns]\n"
          ]
        }
      ]
    }
  ]
}