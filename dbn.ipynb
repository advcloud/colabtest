{
  "nbformat": 4,
  "nbformat_minor": 0,
  "metadata": {
    "colab": {
      "name": "Untitled5.ipynb",
      "provenance": [],
      "authorship_tag": "ABX9TyNCME8JVwv1NBX/13KMCnZF",
      "include_colab_link": true
    },
    "kernelspec": {
      "name": "python3",
      "display_name": "Python 3"
    },
    "language_info": {
      "name": "python"
    }
  },
  "cells": [
    {
      "cell_type": "markdown",
      "metadata": {
        "id": "view-in-github",
        "colab_type": "text"
      },
      "source": [
        "<a href=\"https://colab.research.google.com/github/advcloud/colabtest/blob/main/dbn.ipynb\" target=\"_parent\"><img src=\"https://colab.research.google.com/assets/colab-badge.svg\" alt=\"Open In Colab\"/></a>"
      ]
    },
    {
      "cell_type": "code",
      "source": [
        "!git clone https://github.com/albertbup/deep-belief-network.git\n",
        "%cd deep-belief-network\n",
        "import tensorflow._api.v2.compat.v1 as tf\n",
        "tf.disable_v2_behavior()"
      ],
      "metadata": {
        "colab": {
          "base_uri": "https://localhost:8080/"
        },
        "id": "9GmEOSHqbuRc",
        "outputId": "490930e2-fe7c-4bec-8a3c-56687ce49457"
      },
      "execution_count": 1,
      "outputs": [
        {
          "output_type": "stream",
          "name": "stdout",
          "text": [
            "Cloning into 'deep-belief-network'...\n",
            "remote: Enumerating objects: 795, done.\u001b[K\n",
            "remote: Counting objects: 100% (32/32), done.\u001b[K\n",
            "remote: Compressing objects: 100% (23/23), done.\u001b[K\n",
            "remote: Total 795 (delta 12), reused 20 (delta 9), pack-reused 763\u001b[K\n",
            "Receiving objects: 100% (795/795), 182.61 KiB | 5.22 MiB/s, done.\n",
            "Resolving deltas: 100% (458/458), done.\n",
            "/content/deep-belief-network\n",
            "WARNING:tensorflow:From /usr/local/lib/python3.7/dist-packages/tensorflow/python/compat/v2_compat.py:107: disable_resource_variables (from tensorflow.python.ops.variable_scope) is deprecated and will be removed in a future version.\n",
            "Instructions for updating:\n",
            "non-resource variables are not supported in the long term\n"
          ]
        }
      ]
    },
    {
      "cell_type": "code",
      "source": [
        "from sklearn.model_selection import train_test_split\n",
        "from sklearn.preprocessing import StandardScaler\n",
        "import numpy as np\n",
        "import pandas as pd\n",
        "import math\n",
        "from dbn import SupervisedDBNClassification"
      ],
      "metadata": {
        "id": "QG7GjyxogwuL"
      },
      "execution_count": 3,
      "outputs": []
    },
    {
      "cell_type": "code",
      "source": [
        "url = 'https://raw.githubusercontent.com/advcloud/colabdatat/main/data/final3.csv'\n",
        "puredata = pd.read_csv(url ,names =[\"Age\",\"Grade\",\"Radiation-Sequence-with-surgery\",\"No-of-Primaries\",\"T\",\"N\",\"M\",\"Radiation\",\"Stage\",\"Primary-Site\",\"First-Malignant-Primary-Indicator\",\"Sequence-Number\",\"CS-Lymphnodes\",\"Histology-Recode-Broad-Groupings\",\"RXSumm-ScopeRegLNSur(2003+)\",\"RXSumm-SurgPrimSite(1998+)\",\"DerivedSS1977\",\"Tumor-Size\",\"Survival-Time\"])\n",
        "print (puredata.head())\n",
        "\n",
        "print (puredata.describe().transpose())"
      ],
      "metadata": {
        "colab": {
          "base_uri": "https://localhost:8080/"
        },
        "id": "dq2dIfipZp3_",
        "outputId": "61cb1b8e-c929-4fa4-89f4-c39ed847b82b"
      },
      "execution_count": 4,
      "outputs": [
        {
          "output_type": "stream",
          "name": "stdout",
          "text": [
            "   Age  Grade  Radiation-Sequence-with-surgery  No-of-Primaries  T   N   M  \\\n",
            "0    7     72                                2                0  2  40  20   \n",
            "1   30     66                                3                2  3  40  20   \n",
            "2   55     92                                3                0  4  40  20   \n",
            "3   19     76                                3                0  2  30  10   \n",
            "4   12     76                                3                0  2  20  10   \n",
            "\n",
            "   Radiation  Stage  Primary-Site  First-Malignant-Primary-Indicator  \\\n",
            "0         10      0            70                                  3   \n",
            "1          0      1            53                                  1   \n",
            "2          0      0            53                                  3   \n",
            "3          0      0            52                                  3   \n",
            "4         10      1            70                                  1   \n",
            "\n",
            "   Sequence-Number  CS-Lymphnodes  Histology-Recode-Broad-Groupings  \\\n",
            "0                0              2                                 2   \n",
            "1                1              2                                 2   \n",
            "2                0              3                                 2   \n",
            "3                0              2                                 1   \n",
            "4                0              2                                 1   \n",
            "\n",
            "   RXSumm-ScopeRegLNSur(2003+)  RXSumm-SurgPrimSite(1998+)  DerivedSS1977  \\\n",
            "0                            2                           0              0   \n",
            "1                            2                           5             46   \n",
            "2                            2                           0              0   \n",
            "3                            2                           5             56   \n",
            "4                            1                           0              0   \n",
            "\n",
            "   Tumor-Size  Survival-Time  \n",
            "0           7             72  \n",
            "1           4             72  \n",
            "2           7             72  \n",
            "3           7             72  \n",
            "4           7             72  \n",
            "                                    count       mean        std  min   25%  \\\n",
            "Age                                9171.0  15.294842  17.756068  0.0   2.0   \n",
            "Grade                              9171.0  71.204231  11.292196  1.0  64.0   \n",
            "Radiation-Sequence-with-surgery    9171.0   2.824883   0.610411  1.0   3.0   \n",
            "No-of-Primaries                    9171.0   0.214699   0.769530  0.0   0.0   \n",
            "T                                  9171.0   1.506597   0.778833  1.0   1.0   \n",
            "N                                  9171.0  40.724021  30.322592  0.0  20.0   \n",
            "M                                  9171.0  23.237161  30.524508  0.0   0.0   \n",
            "Radiation                          9171.0  11.538545  24.577066  0.0   0.0   \n",
            "Stage                              9171.0   0.548795   1.102338  0.0   0.0   \n",
            "Primary-Site                       9171.0  53.943409  21.451926  0.0  52.0   \n",
            "First-Malignant-Primary-Indicator  9171.0   2.881256   2.959370  0.0   1.0   \n",
            "Sequence-Number                    9171.0   0.688584   0.463098  0.0   0.0   \n",
            "CS-Lymphnodes                      9171.0   0.802639   1.121456  0.0   0.0   \n",
            "Histology-Recode-Broad-Groupings   9171.0   1.694690   1.811846  0.0   0.0   \n",
            "RXSumm-ScopeRegLNSur(2003+)        9171.0   2.922255   2.478733  0.0   1.0   \n",
            "RXSumm-SurgPrimSite(1998+)         9171.0   0.859230   1.789076  0.0   0.0   \n",
            "DerivedSS1977                      9171.0   6.070658  13.230810  0.0   0.0   \n",
            "Tumor-Size                         9171.0   4.986152   2.451431  0.0   3.0   \n",
            "Survival-Time                      9171.0  41.010141  16.664402  0.0  26.0   \n",
            "\n",
            "                                    50%   75%    max  \n",
            "Age                                 8.0  21.0   72.0  \n",
            "Grade                              73.0  80.0  100.0  \n",
            "Radiation-Sequence-with-surgery     3.0   3.0    4.0  \n",
            "No-of-Primaries                     0.0   0.0    6.0  \n",
            "T                                   1.0   2.0    8.0  \n",
            "N                                  40.0  40.0   99.0  \n",
            "M                                  20.0  20.0   99.0  \n",
            "Radiation                          10.0  10.0   99.0  \n",
            "Stage                               0.0   1.0    8.0  \n",
            "Primary-Site                       54.0  70.0   90.0  \n",
            "First-Malignant-Primary-Indicator   1.0   3.0    9.0  \n",
            "Sequence-Number                     1.0   1.0    1.0  \n",
            "CS-Lymphnodes                       0.0   2.0    7.0  \n",
            "Histology-Recode-Broad-Groupings    2.0   2.0    8.0  \n",
            "RXSumm-ScopeRegLNSur(2003+)         2.0   5.0   36.0  \n",
            "RXSumm-SurgPrimSite(1998+)          0.0   0.0    7.0  \n",
            "DerivedSS1977                       0.0   0.0   90.0  \n",
            "Tumor-Size                          7.0   7.0    7.0  \n",
            "Survival-Time                      48.0  54.0   72.0  \n"
          ]
        }
      ]
    },
    {
      "cell_type": "code",
      "source": [
        "X = puredata.drop('Survival-Time',axis=1)\n",
        "y = puredata['Survival-Time']\n",
        "\n",
        "X_train, X_test, y_train, y_test = train_test_split(X, y)\n",
        "y_test=y_test.tolist()\n",
        "scaler = StandardScaler()\n",
        "scaler.fit(X_train)\n",
        "X_train = scaler.transform(X_train)\n",
        "X_test = scaler.transform(X_test)"
      ],
      "metadata": {
        "id": "UXGzUXXkafnp"
      },
      "execution_count": 5,
      "outputs": []
    },
    {
      "cell_type": "code",
      "source": [
        "mlp = SupervisedDBNClassification(hidden_layers_structure=[19,30,19],\n",
        "                                         learning_rate_rbm=0.05,\n",
        "                                         learning_rate=0.1,\n",
        "                                         n_epochs_rbm=10,\n",
        "                                         n_iter_backprop=50,\n",
        "                                         batch_size=32,\n",
        "                                         activation_function='relu',\n",
        "                                         dropout_p=0.2)\n",
        "\n",
        "mlp.fit(X_train,y_train)"
      ],
      "metadata": {
        "colab": {
          "base_uri": "https://localhost:8080/"
        },
        "id": "F02jC_RtaoTM",
        "outputId": "633104d8-9559-46ed-c262-21d8cf024813"
      },
      "execution_count": 6,
      "outputs": [
        {
          "output_type": "stream",
          "name": "stdout",
          "text": [
            "[START] Pre-training step:\n"
          ]
        },
        {
          "output_type": "stream",
          "name": "stderr",
          "text": [
            "/usr/local/lib/python3.7/dist-packages/numpy/core/numeric.py:936: RuntimeWarning: overflow encountered in multiply\n",
            "  return multiply(a.ravel()[:, newaxis], b.ravel()[newaxis, :], out)\n"
          ]
        },
        {
          "output_type": "stream",
          "name": "stdout",
          "text": [
            ">> Epoch 1 finished \tRBM Reconstruction error nan\n",
            ">> Epoch 2 finished \tRBM Reconstruction error nan\n",
            ">> Epoch 3 finished \tRBM Reconstruction error nan\n",
            ">> Epoch 4 finished \tRBM Reconstruction error nan\n",
            ">> Epoch 5 finished \tRBM Reconstruction error nan\n",
            ">> Epoch 6 finished \tRBM Reconstruction error nan\n",
            ">> Epoch 7 finished \tRBM Reconstruction error nan\n",
            ">> Epoch 8 finished \tRBM Reconstruction error nan\n",
            ">> Epoch 9 finished \tRBM Reconstruction error nan\n",
            ">> Epoch 10 finished \tRBM Reconstruction error nan\n",
            ">> Epoch 1 finished \tRBM Reconstruction error nan\n",
            ">> Epoch 2 finished \tRBM Reconstruction error nan\n",
            ">> Epoch 3 finished \tRBM Reconstruction error nan\n",
            ">> Epoch 4 finished \tRBM Reconstruction error nan\n",
            ">> Epoch 5 finished \tRBM Reconstruction error nan\n",
            ">> Epoch 6 finished \tRBM Reconstruction error nan\n",
            ">> Epoch 7 finished \tRBM Reconstruction error nan\n",
            ">> Epoch 8 finished \tRBM Reconstruction error nan\n",
            ">> Epoch 9 finished \tRBM Reconstruction error nan\n",
            ">> Epoch 10 finished \tRBM Reconstruction error nan\n",
            ">> Epoch 1 finished \tRBM Reconstruction error nan\n",
            ">> Epoch 2 finished \tRBM Reconstruction error nan\n",
            ">> Epoch 3 finished \tRBM Reconstruction error nan\n",
            ">> Epoch 4 finished \tRBM Reconstruction error nan\n",
            ">> Epoch 5 finished \tRBM Reconstruction error nan\n",
            ">> Epoch 6 finished \tRBM Reconstruction error nan\n",
            ">> Epoch 7 finished \tRBM Reconstruction error nan\n",
            ">> Epoch 8 finished \tRBM Reconstruction error nan\n",
            ">> Epoch 9 finished \tRBM Reconstruction error nan\n",
            ">> Epoch 10 finished \tRBM Reconstruction error nan\n",
            "[END] Pre-training step\n",
            "[START] Fine tuning step:\n",
            ">> Epoch 1 finished \tANN training loss nan\n",
            ">> Epoch 2 finished \tANN training loss nan\n",
            ">> Epoch 3 finished \tANN training loss nan\n",
            ">> Epoch 4 finished \tANN training loss nan\n",
            ">> Epoch 5 finished \tANN training loss nan\n",
            ">> Epoch 6 finished \tANN training loss nan\n",
            ">> Epoch 7 finished \tANN training loss nan\n",
            ">> Epoch 8 finished \tANN training loss nan\n",
            ">> Epoch 9 finished \tANN training loss nan\n",
            ">> Epoch 10 finished \tANN training loss nan\n",
            ">> Epoch 11 finished \tANN training loss nan\n",
            ">> Epoch 12 finished \tANN training loss nan\n",
            ">> Epoch 13 finished \tANN training loss nan\n",
            ">> Epoch 14 finished \tANN training loss nan\n",
            ">> Epoch 15 finished \tANN training loss nan\n",
            ">> Epoch 16 finished \tANN training loss nan\n",
            ">> Epoch 17 finished \tANN training loss nan\n",
            ">> Epoch 18 finished \tANN training loss nan\n",
            ">> Epoch 19 finished \tANN training loss nan\n",
            ">> Epoch 20 finished \tANN training loss nan\n",
            ">> Epoch 21 finished \tANN training loss nan\n",
            ">> Epoch 22 finished \tANN training loss nan\n",
            ">> Epoch 23 finished \tANN training loss nan\n",
            ">> Epoch 24 finished \tANN training loss nan\n",
            ">> Epoch 25 finished \tANN training loss nan\n",
            ">> Epoch 26 finished \tANN training loss nan\n",
            ">> Epoch 27 finished \tANN training loss nan\n",
            ">> Epoch 28 finished \tANN training loss nan\n",
            ">> Epoch 29 finished \tANN training loss nan\n",
            ">> Epoch 30 finished \tANN training loss nan\n",
            ">> Epoch 31 finished \tANN training loss nan\n",
            ">> Epoch 32 finished \tANN training loss nan\n",
            ">> Epoch 33 finished \tANN training loss nan\n",
            ">> Epoch 34 finished \tANN training loss nan\n",
            ">> Epoch 35 finished \tANN training loss nan\n",
            ">> Epoch 36 finished \tANN training loss nan\n",
            ">> Epoch 37 finished \tANN training loss nan\n",
            ">> Epoch 38 finished \tANN training loss nan\n",
            ">> Epoch 39 finished \tANN training loss nan\n",
            ">> Epoch 40 finished \tANN training loss nan\n",
            ">> Epoch 41 finished \tANN training loss nan\n",
            ">> Epoch 42 finished \tANN training loss nan\n",
            ">> Epoch 43 finished \tANN training loss nan\n",
            ">> Epoch 44 finished \tANN training loss nan\n",
            ">> Epoch 45 finished \tANN training loss nan\n",
            ">> Epoch 46 finished \tANN training loss nan\n",
            ">> Epoch 47 finished \tANN training loss nan\n",
            ">> Epoch 48 finished \tANN training loss nan\n",
            ">> Epoch 49 finished \tANN training loss nan\n",
            ">> Epoch 50 finished \tANN training loss nan\n",
            "[END] Fine tuning step\n"
          ]
        },
        {
          "output_type": "execute_result",
          "data": {
            "text/plain": [
              "SupervisedDBNClassification()"
            ]
          },
          "metadata": {},
          "execution_count": 6
        }
      ]
    },
    {
      "cell_type": "code",
      "source": [
        "mlp.save('model.pkl')"
      ],
      "metadata": {
        "id": "8jLmX5j3av9w"
      },
      "execution_count": 7,
      "outputs": []
    },
    {
      "cell_type": "code",
      "source": [
        "mlp = SupervisedDBNClassification.load('model.pkl')\n",
        "\n",
        "predictions = mlp.predict(X_test)"
      ],
      "metadata": {
        "id": "j75Yr8Mpa0zN"
      },
      "execution_count": 8,
      "outputs": []
    },
    {
      "cell_type": "code",
      "source": [
        "RMSE_sum=0\n",
        "\n",
        "list=[]\n",
        "for x in range(0,len(X_test)):\n",
        "    \n",
        "    RMSE_sum=RMSE_sum+ ((y_test[x]-predictions[x])**2)\n",
        "    list.append(abs(y_test[x]-predictions[x]))\n",
        "\n",
        "RMSE=math.sqrt (RMSE_sum/len(X_test))\n",
        "print (\"RMSE :\", RMSE)\n",
        "print (\"Mean of predictions : \",np.mean(predictions))\n",
        "print (\"Mean of residuals : \" , np.mean(list))\n",
        "print (\"Standard deviation : \",np.std(list,ddof=1))"
      ],
      "metadata": {
        "colab": {
          "base_uri": "https://localhost:8080/"
        },
        "id": "MRRT7uDca7kV",
        "outputId": "c65ee637-4366-4854-b9a7-bafff37eb472"
      },
      "execution_count": 9,
      "outputs": [
        {
          "output_type": "stream",
          "name": "stdout",
          "text": [
            "RMSE : 35.291138505907895\n",
            "Mean of predictions :  10.0\n",
            "Mean of residuals :  31.421718273004796\n",
            "Standard deviation :  16.0702428225616\n"
          ]
        }
      ]
    }
  ]
}