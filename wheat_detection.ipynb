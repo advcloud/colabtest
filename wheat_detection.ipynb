{
  "nbformat": 4,
  "nbformat_minor": 0,
  "metadata": {
    "colab": {
      "name": "wheat-detection.ipynb",
      "provenance": [],
      "collapsed_sections": [],
      "toc_visible": true,
      "include_colab_link": true
    },
    "kernelspec": {
      "name": "python3",
      "display_name": "Python 3"
    }
  },
  "cells": [
    {
      "cell_type": "markdown",
      "metadata": {
        "id": "view-in-github",
        "colab_type": "text"
      },
      "source": [
        "<a href=\"https://colab.research.google.com/github/advcloud/colabtest/blob/main/wheat_detection.ipynb\" target=\"_parent\"><img src=\"https://colab.research.google.com/assets/colab-badge.svg\" alt=\"Open In Colab\"/></a>"
      ]
    },
    {
      "cell_type": "markdown",
      "metadata": {
        "id": "IKSmheTnWV0w"
      },
      "source": [
        "## How To Run\n",
        "1. Go to Runtime->Run All.\n",
        "2. Wait for last cell to start running.\n",
        "3. Go to the url in 2nd cell (xxxxxxx.ngrok.io)\n"
      ]
    },
    {
      "cell_type": "code",
      "metadata": {
        "id": "haZCiAyPlaW5",
        "colab": {
          "base_uri": "https://localhost:8080/"
        },
        "outputId": "431aefc7-7a21-476e-8695-df3416267f36"
      },
      "source": [
        " !pip install -qqq pyngrok"
      ],
      "execution_count": 1,
      "outputs": [
        {
          "output_type": "stream",
          "name": "stdout",
          "text": [
            "\u001b[?25l\r\u001b[K     |▍                               | 10 kB 16.7 MB/s eta 0:00:01\r\u001b[K     |▉                               | 20 kB 22.4 MB/s eta 0:00:01\r\u001b[K     |█▎                              | 30 kB 25.6 MB/s eta 0:00:01\r\u001b[K     |█▊                              | 40 kB 20.1 MB/s eta 0:00:01\r\u001b[K     |██▏                             | 51 kB 14.8 MB/s eta 0:00:01\r\u001b[K     |██▋                             | 61 kB 16.5 MB/s eta 0:00:01\r\u001b[K     |███                             | 71 kB 14.5 MB/s eta 0:00:01\r\u001b[K     |███▌                            | 81 kB 13.5 MB/s eta 0:00:01\r\u001b[K     |████                            | 92 kB 14.5 MB/s eta 0:00:01\r\u001b[K     |████▍                           | 102 kB 13.0 MB/s eta 0:00:01\r\u001b[K     |████▉                           | 112 kB 13.0 MB/s eta 0:00:01\r\u001b[K     |█████▎                          | 122 kB 13.0 MB/s eta 0:00:01\r\u001b[K     |█████▊                          | 133 kB 13.0 MB/s eta 0:00:01\r\u001b[K     |██████▏                         | 143 kB 13.0 MB/s eta 0:00:01\r\u001b[K     |██████▋                         | 153 kB 13.0 MB/s eta 0:00:01\r\u001b[K     |███████                         | 163 kB 13.0 MB/s eta 0:00:01\r\u001b[K     |███████▌                        | 174 kB 13.0 MB/s eta 0:00:01\r\u001b[K     |████████                        | 184 kB 13.0 MB/s eta 0:00:01\r\u001b[K     |████████▍                       | 194 kB 13.0 MB/s eta 0:00:01\r\u001b[K     |████████▉                       | 204 kB 13.0 MB/s eta 0:00:01\r\u001b[K     |█████████▎                      | 215 kB 13.0 MB/s eta 0:00:01\r\u001b[K     |█████████▊                      | 225 kB 13.0 MB/s eta 0:00:01\r\u001b[K     |██████████▏                     | 235 kB 13.0 MB/s eta 0:00:01\r\u001b[K     |██████████▌                     | 245 kB 13.0 MB/s eta 0:00:01\r\u001b[K     |███████████                     | 256 kB 13.0 MB/s eta 0:00:01\r\u001b[K     |███████████▍                    | 266 kB 13.0 MB/s eta 0:00:01\r\u001b[K     |███████████▉                    | 276 kB 13.0 MB/s eta 0:00:01\r\u001b[K     |████████████▎                   | 286 kB 13.0 MB/s eta 0:00:01\r\u001b[K     |████████████▊                   | 296 kB 13.0 MB/s eta 0:00:01\r\u001b[K     |█████████████▏                  | 307 kB 13.0 MB/s eta 0:00:01\r\u001b[K     |█████████████▋                  | 317 kB 13.0 MB/s eta 0:00:01\r\u001b[K     |██████████████                  | 327 kB 13.0 MB/s eta 0:00:01\r\u001b[K     |██████████████▌                 | 337 kB 13.0 MB/s eta 0:00:01\r\u001b[K     |███████████████                 | 348 kB 13.0 MB/s eta 0:00:01\r\u001b[K     |███████████████▍                | 358 kB 13.0 MB/s eta 0:00:01\r\u001b[K     |███████████████▉                | 368 kB 13.0 MB/s eta 0:00:01\r\u001b[K     |████████████████▎               | 378 kB 13.0 MB/s eta 0:00:01\r\u001b[K     |████████████████▊               | 389 kB 13.0 MB/s eta 0:00:01\r\u001b[K     |█████████████████▏              | 399 kB 13.0 MB/s eta 0:00:01\r\u001b[K     |█████████████████▋              | 409 kB 13.0 MB/s eta 0:00:01\r\u001b[K     |██████████████████              | 419 kB 13.0 MB/s eta 0:00:01\r\u001b[K     |██████████████████▌             | 430 kB 13.0 MB/s eta 0:00:01\r\u001b[K     |███████████████████             | 440 kB 13.0 MB/s eta 0:00:01\r\u001b[K     |███████████████████▍            | 450 kB 13.0 MB/s eta 0:00:01\r\u001b[K     |███████████████████▉            | 460 kB 13.0 MB/s eta 0:00:01\r\u001b[K     |████████████████████▎           | 471 kB 13.0 MB/s eta 0:00:01\r\u001b[K     |████████████████████▋           | 481 kB 13.0 MB/s eta 0:00:01\r\u001b[K     |█████████████████████           | 491 kB 13.0 MB/s eta 0:00:01\r\u001b[K     |█████████████████████▌          | 501 kB 13.0 MB/s eta 0:00:01\r\u001b[K     |██████████████████████          | 512 kB 13.0 MB/s eta 0:00:01\r\u001b[K     |██████████████████████▍         | 522 kB 13.0 MB/s eta 0:00:01\r\u001b[K     |██████████████████████▉         | 532 kB 13.0 MB/s eta 0:00:01\r\u001b[K     |███████████████████████▎        | 542 kB 13.0 MB/s eta 0:00:01\r\u001b[K     |███████████████████████▊        | 552 kB 13.0 MB/s eta 0:00:01\r\u001b[K     |████████████████████████▏       | 563 kB 13.0 MB/s eta 0:00:01\r\u001b[K     |████████████████████████▋       | 573 kB 13.0 MB/s eta 0:00:01\r\u001b[K     |█████████████████████████       | 583 kB 13.0 MB/s eta 0:00:01\r\u001b[K     |█████████████████████████▌      | 593 kB 13.0 MB/s eta 0:00:01\r\u001b[K     |██████████████████████████      | 604 kB 13.0 MB/s eta 0:00:01\r\u001b[K     |██████████████████████████▍     | 614 kB 13.0 MB/s eta 0:00:01\r\u001b[K     |██████████████████████████▉     | 624 kB 13.0 MB/s eta 0:00:01\r\u001b[K     |███████████████████████████▎    | 634 kB 13.0 MB/s eta 0:00:01\r\u001b[K     |███████████████████████████▊    | 645 kB 13.0 MB/s eta 0:00:01\r\u001b[K     |████████████████████████████▏   | 655 kB 13.0 MB/s eta 0:00:01\r\u001b[K     |████████████████████████████▋   | 665 kB 13.0 MB/s eta 0:00:01\r\u001b[K     |█████████████████████████████   | 675 kB 13.0 MB/s eta 0:00:01\r\u001b[K     |█████████████████████████████▌  | 686 kB 13.0 MB/s eta 0:00:01\r\u001b[K     |██████████████████████████████  | 696 kB 13.0 MB/s eta 0:00:01\r\u001b[K     |██████████████████████████████▍ | 706 kB 13.0 MB/s eta 0:00:01\r\u001b[K     |██████████████████████████████▊ | 716 kB 13.0 MB/s eta 0:00:01\r\u001b[K     |███████████████████████████████▏| 727 kB 13.0 MB/s eta 0:00:01\r\u001b[K     |███████████████████████████████▋| 737 kB 13.0 MB/s eta 0:00:01\r\u001b[K     |████████████████████████████████| 745 kB 13.0 MB/s \n",
            "\u001b[?25h  Building wheel for pyngrok (setup.py) ... \u001b[?25l\u001b[?25hdone\n"
          ]
        }
      ]
    },
    {
      "cell_type": "code",
      "metadata": {
        "id": "9R5cH71QldBX",
        "colab": {
          "base_uri": "https://localhost:8080/"
        },
        "outputId": "894c2649-99ba-425f-bdd5-5d017ea3e42f"
      },
      "source": [
        " from pyngrok import ngrok\n",
        " url = ngrok.connect(port=80)\n",
        " print(url)"
      ],
      "execution_count": 2,
      "outputs": [
        {
          "output_type": "stream",
          "name": "stdout",
          "text": [
            "NgrokTunnel: \"http://29fb-34-90-11-120.ngrok.io\" -> \"http://localhost:80\"\n"
          ]
        }
      ]
    },
    {
      "cell_type": "code",
      "metadata": {
        "id": "SkphTCZOleDO",
        "colab": {
          "base_uri": "https://localhost:8080/"
        },
        "outputId": "b5a8d245-688f-42f9-c6cb-1d98ef56662c"
      },
      "source": [
        "!git clone https://github.com/tanmaypandey7/wheat-detection"
      ],
      "execution_count": 3,
      "outputs": [
        {
          "output_type": "stream",
          "name": "stdout",
          "text": [
            "Cloning into 'wheat-detection'...\n",
            "remote: Enumerating objects: 241, done.\u001b[K\n",
            "remote: Counting objects: 100% (241/241), done.\u001b[K\n",
            "remote: Compressing objects: 100% (153/153), done.\u001b[K\n",
            "remote: Total 241 (delta 106), reused 195 (delta 68), pack-reused 0\u001b[K\n",
            "Receiving objects: 100% (241/241), 2.73 MiB | 15.63 MiB/s, done.\n",
            "Resolving deltas: 100% (106/106), done.\n"
          ]
        }
      ]
    },
    {
      "cell_type": "code",
      "metadata": {
        "id": "7-U4UpZClkEi",
        "colab": {
          "base_uri": "https://localhost:8080/"
        },
        "outputId": "656432c5-696a-459e-a1a6-8ac49ef94af3"
      },
      "source": [
        "%cd wheat-detection\n",
        "!gdown https://drive.google.com/uc?id=1OS1Hk2mJHUzVyI_1QXdkc8QKXSp4uFOB -O \"./input/last_yolov5x_4M50fold0.pt\"\n",
        "!pip install waitress"
      ],
      "execution_count": 4,
      "outputs": [
        {
          "output_type": "stream",
          "name": "stdout",
          "text": [
            "/content/wheat-detection\n",
            "Access denied with the following error:\n",
            "\n",
            " \tCannot retrieve the public link of the file. You may need to change\n",
            "\tthe permission to 'Anyone with the link', or have had many accesses. \n",
            "\n",
            "You may still be able to access the file from the browser:\n",
            "\n",
            "\t https://drive.google.com/uc?id=1OS1Hk2mJHUzVyI_1QXdkc8QKXSp4uFOB \n",
            "\n",
            "Looking in indexes: https://pypi.org/simple, https://us-python.pkg.dev/colab-wheels/public/simple/\n",
            "Collecting waitress\n",
            "  Downloading waitress-2.1.1-py3-none-any.whl (57 kB)\n",
            "\u001b[K     |████████████████████████████████| 57 kB 4.2 MB/s \n",
            "\u001b[?25hInstalling collected packages: waitress\n",
            "Successfully installed waitress-2.1.1\n"
          ]
        }
      ]
    },
    {
      "cell_type": "code",
      "metadata": {
        "id": "s5lpZlvilpcO",
        "colab": {
          "base_uri": "https://localhost:8080/"
        },
        "outputId": "fb15f668-7f16-4759-b8f8-d964a9286803"
      },
      "source": [
        "!python app.py"
      ],
      "execution_count": null,
      "outputs": [
        {
          "output_type": "stream",
          "name": "stdout",
          "text": [
            " * Serving Flask app \"app\" (lazy loading)\n",
            " * Environment: production\n",
            "\u001b[31m   WARNING: This is a development server. Do not use it in a production deployment.\u001b[0m\n",
            "\u001b[2m   Use a production WSGI server instead.\u001b[0m\n",
            " * Debug mode: off\n",
            " * Running on http://127.0.0.1:80/ (Press CTRL+C to quit)\n",
            "127.0.0.1 - - [29/May/2022 13:13:13] \"\u001b[37mGET / HTTP/1.1\u001b[0m\" 200 -\n",
            "127.0.0.1 - - [29/May/2022 13:13:14] \"\u001b[33mGET /favicon.ico HTTP/1.1\u001b[0m\" 404 -\n"
          ]
        }
      ]
    },
    {
      "cell_type": "code",
      "metadata": {
        "id": "D9RS1EQamHvu"
      },
      "source": [
        ""
      ],
      "execution_count": null,
      "outputs": []
    }
  ]
}